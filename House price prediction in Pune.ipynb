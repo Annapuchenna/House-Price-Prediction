{
 "cells": [
  {
   "cell_type": "code",
   "execution_count": 244,
   "id": "16626ea4",
   "metadata": {},
   "outputs": [],
   "source": [
    "import pandas as pd\n",
    "import numpy as np\n",
    "from matplotlib import pyplot as plt\n",
    "%matplotlib inline\n",
    "import matplotlib\n",
    "matplotlib.rcParams[\"figure.figsize\"] = (20,10)"
   ]
  },
  {
   "cell_type": "code",
   "execution_count": 245,
   "id": "11a869e6",
   "metadata": {},
   "outputs": [
    {
     "data": {
      "text/html": [
       "<div>\n",
       "<style scoped>\n",
       "    .dataframe tbody tr th:only-of-type {\n",
       "        vertical-align: middle;\n",
       "    }\n",
       "\n",
       "    .dataframe tbody tr th {\n",
       "        vertical-align: top;\n",
       "    }\n",
       "\n",
       "    .dataframe thead th {\n",
       "        text-align: right;\n",
       "    }\n",
       "</style>\n",
       "<table border=\"1\" class=\"dataframe\">\n",
       "  <thead>\n",
       "    <tr style=\"text-align: right;\">\n",
       "      <th></th>\n",
       "      <th>Area</th>\n",
       "      <th>BHK</th>\n",
       "      <th>Bathroom</th>\n",
       "      <th>Furnishing</th>\n",
       "      <th>Locality</th>\n",
       "      <th>Parking</th>\n",
       "      <th>Price</th>\n",
       "      <th>Status</th>\n",
       "      <th>Transaction</th>\n",
       "      <th>Type</th>\n",
       "      <th>Per_Sqft</th>\n",
       "    </tr>\n",
       "  </thead>\n",
       "  <tbody>\n",
       "    <tr>\n",
       "      <th>0</th>\n",
       "      <td>800.0</td>\n",
       "      <td>3</td>\n",
       "      <td>2.0</td>\n",
       "      <td>Semi-Furnished</td>\n",
       "      <td>Rohini Sector 25</td>\n",
       "      <td>1.0</td>\n",
       "      <td>6500000</td>\n",
       "      <td>Ready_to_move</td>\n",
       "      <td>New_Property</td>\n",
       "      <td>Builder_Floor</td>\n",
       "      <td>NaN</td>\n",
       "    </tr>\n",
       "    <tr>\n",
       "      <th>1</th>\n",
       "      <td>750.0</td>\n",
       "      <td>2</td>\n",
       "      <td>2.0</td>\n",
       "      <td>Semi-Furnished</td>\n",
       "      <td>J R Designers Floors, Rohini Sector 24</td>\n",
       "      <td>1.0</td>\n",
       "      <td>5000000</td>\n",
       "      <td>Ready_to_move</td>\n",
       "      <td>New_Property</td>\n",
       "      <td>Apartment</td>\n",
       "      <td>6667.0</td>\n",
       "    </tr>\n",
       "    <tr>\n",
       "      <th>2</th>\n",
       "      <td>950.0</td>\n",
       "      <td>2</td>\n",
       "      <td>2.0</td>\n",
       "      <td>Furnished</td>\n",
       "      <td>Citizen Apartment, Rohini Sector 13</td>\n",
       "      <td>1.0</td>\n",
       "      <td>15500000</td>\n",
       "      <td>Ready_to_move</td>\n",
       "      <td>Resale</td>\n",
       "      <td>Apartment</td>\n",
       "      <td>6667.0</td>\n",
       "    </tr>\n",
       "    <tr>\n",
       "      <th>3</th>\n",
       "      <td>600.0</td>\n",
       "      <td>2</td>\n",
       "      <td>2.0</td>\n",
       "      <td>Semi-Furnished</td>\n",
       "      <td>Rohini Sector 24</td>\n",
       "      <td>1.0</td>\n",
       "      <td>4200000</td>\n",
       "      <td>Ready_to_move</td>\n",
       "      <td>Resale</td>\n",
       "      <td>Builder_Floor</td>\n",
       "      <td>6667.0</td>\n",
       "    </tr>\n",
       "    <tr>\n",
       "      <th>4</th>\n",
       "      <td>650.0</td>\n",
       "      <td>2</td>\n",
       "      <td>2.0</td>\n",
       "      <td>Semi-Furnished</td>\n",
       "      <td>Rohini Sector 24 carpet area 650 sqft status R...</td>\n",
       "      <td>1.0</td>\n",
       "      <td>6200000</td>\n",
       "      <td>Ready_to_move</td>\n",
       "      <td>New_Property</td>\n",
       "      <td>Builder_Floor</td>\n",
       "      <td>6667.0</td>\n",
       "    </tr>\n",
       "  </tbody>\n",
       "</table>\n",
       "</div>"
      ],
      "text/plain": [
       "    Area  BHK  Bathroom      Furnishing  \\\n",
       "0  800.0    3       2.0  Semi-Furnished   \n",
       "1  750.0    2       2.0  Semi-Furnished   \n",
       "2  950.0    2       2.0       Furnished   \n",
       "3  600.0    2       2.0  Semi-Furnished   \n",
       "4  650.0    2       2.0  Semi-Furnished   \n",
       "\n",
       "                                            Locality  Parking     Price  \\\n",
       "0                                   Rohini Sector 25      1.0   6500000   \n",
       "1             J R Designers Floors, Rohini Sector 24      1.0   5000000   \n",
       "2                Citizen Apartment, Rohini Sector 13      1.0  15500000   \n",
       "3                                   Rohini Sector 24      1.0   4200000   \n",
       "4  Rohini Sector 24 carpet area 650 sqft status R...      1.0   6200000   \n",
       "\n",
       "          Status   Transaction           Type  Per_Sqft  \n",
       "0  Ready_to_move  New_Property  Builder_Floor       NaN  \n",
       "1  Ready_to_move  New_Property      Apartment    6667.0  \n",
       "2  Ready_to_move        Resale      Apartment    6667.0  \n",
       "3  Ready_to_move        Resale  Builder_Floor    6667.0  \n",
       "4  Ready_to_move  New_Property  Builder_Floor    6667.0  "
      ]
     },
     "execution_count": 245,
     "metadata": {},
     "output_type": "execute_result"
    }
   ],
   "source": [
    "df1 = pd.read_csv(\"MagicBricks.csv\")\n",
    "df1.head()"
   ]
  },
  {
   "cell_type": "code",
   "execution_count": 246,
   "id": "422d3869",
   "metadata": {},
   "outputs": [
    {
     "data": {
      "text/plain": [
       "(1259, 11)"
      ]
     },
     "execution_count": 246,
     "metadata": {},
     "output_type": "execute_result"
    }
   ],
   "source": [
    "df1.shape"
   ]
  },
  {
   "cell_type": "code",
   "execution_count": 247,
   "id": "28be7cab",
   "metadata": {},
   "outputs": [
    {
     "data": {
      "text/plain": [
       "Type\n",
       "Apartment        593\n",
       "Builder_Floor    661\n",
       "Name: Type, dtype: int64"
      ]
     },
     "execution_count": 247,
     "metadata": {},
     "output_type": "execute_result"
    }
   ],
   "source": [
    "df1.groupby(\"Type\")[\"Type\"].agg(\"count\")"
   ]
  },
  {
   "cell_type": "code",
   "execution_count": 248,
   "id": "3ac4cb7d",
   "metadata": {},
   "outputs": [
    {
     "data": {
      "text/html": [
       "<div>\n",
       "<style scoped>\n",
       "    .dataframe tbody tr th:only-of-type {\n",
       "        vertical-align: middle;\n",
       "    }\n",
       "\n",
       "    .dataframe tbody tr th {\n",
       "        vertical-align: top;\n",
       "    }\n",
       "\n",
       "    .dataframe thead th {\n",
       "        text-align: right;\n",
       "    }\n",
       "</style>\n",
       "<table border=\"1\" class=\"dataframe\">\n",
       "  <thead>\n",
       "    <tr style=\"text-align: right;\">\n",
       "      <th></th>\n",
       "      <th>BHK</th>\n",
       "      <th>Furnishing</th>\n",
       "      <th>Locality</th>\n",
       "      <th>Parking</th>\n",
       "      <th>Price</th>\n",
       "      <th>Status</th>\n",
       "      <th>Transaction</th>\n",
       "      <th>Per_Sqft</th>\n",
       "    </tr>\n",
       "  </thead>\n",
       "  <tbody>\n",
       "    <tr>\n",
       "      <th>0</th>\n",
       "      <td>3</td>\n",
       "      <td>Semi-Furnished</td>\n",
       "      <td>Rohini Sector 25</td>\n",
       "      <td>1.0</td>\n",
       "      <td>6500000</td>\n",
       "      <td>Ready_to_move</td>\n",
       "      <td>New_Property</td>\n",
       "      <td>NaN</td>\n",
       "    </tr>\n",
       "    <tr>\n",
       "      <th>1</th>\n",
       "      <td>2</td>\n",
       "      <td>Semi-Furnished</td>\n",
       "      <td>J R Designers Floors, Rohini Sector 24</td>\n",
       "      <td>1.0</td>\n",
       "      <td>5000000</td>\n",
       "      <td>Ready_to_move</td>\n",
       "      <td>New_Property</td>\n",
       "      <td>6667.0</td>\n",
       "    </tr>\n",
       "    <tr>\n",
       "      <th>2</th>\n",
       "      <td>2</td>\n",
       "      <td>Furnished</td>\n",
       "      <td>Citizen Apartment, Rohini Sector 13</td>\n",
       "      <td>1.0</td>\n",
       "      <td>15500000</td>\n",
       "      <td>Ready_to_move</td>\n",
       "      <td>Resale</td>\n",
       "      <td>6667.0</td>\n",
       "    </tr>\n",
       "    <tr>\n",
       "      <th>3</th>\n",
       "      <td>2</td>\n",
       "      <td>Semi-Furnished</td>\n",
       "      <td>Rohini Sector 24</td>\n",
       "      <td>1.0</td>\n",
       "      <td>4200000</td>\n",
       "      <td>Ready_to_move</td>\n",
       "      <td>Resale</td>\n",
       "      <td>6667.0</td>\n",
       "    </tr>\n",
       "    <tr>\n",
       "      <th>4</th>\n",
       "      <td>2</td>\n",
       "      <td>Semi-Furnished</td>\n",
       "      <td>Rohini Sector 24 carpet area 650 sqft status R...</td>\n",
       "      <td>1.0</td>\n",
       "      <td>6200000</td>\n",
       "      <td>Ready_to_move</td>\n",
       "      <td>New_Property</td>\n",
       "      <td>6667.0</td>\n",
       "    </tr>\n",
       "  </tbody>\n",
       "</table>\n",
       "</div>"
      ],
      "text/plain": [
       "   BHK      Furnishing                                           Locality  \\\n",
       "0    3  Semi-Furnished                                   Rohini Sector 25   \n",
       "1    2  Semi-Furnished             J R Designers Floors, Rohini Sector 24   \n",
       "2    2       Furnished                Citizen Apartment, Rohini Sector 13   \n",
       "3    2  Semi-Furnished                                   Rohini Sector 24   \n",
       "4    2  Semi-Furnished  Rohini Sector 24 carpet area 650 sqft status R...   \n",
       "\n",
       "   Parking     Price         Status   Transaction  Per_Sqft  \n",
       "0      1.0   6500000  Ready_to_move  New_Property       NaN  \n",
       "1      1.0   5000000  Ready_to_move  New_Property    6667.0  \n",
       "2      1.0  15500000  Ready_to_move        Resale    6667.0  \n",
       "3      1.0   4200000  Ready_to_move        Resale    6667.0  \n",
       "4      1.0   6200000  Ready_to_move  New_Property    6667.0  "
      ]
     },
     "execution_count": 248,
     "metadata": {},
     "output_type": "execute_result"
    }
   ],
   "source": [
    "df2 = df1.drop([\"Type\",\"Area\",\"Bathroom\"],axis=\"columns\")\n",
    "df2.head()"
   ]
  },
  {
   "cell_type": "code",
   "execution_count": 249,
   "id": "b8e8c3e8",
   "metadata": {},
   "outputs": [
    {
     "data": {
      "text/plain": [
       "BHK              0\n",
       "Furnishing       5\n",
       "Locality         0\n",
       "Parking         33\n",
       "Price            0\n",
       "Status           0\n",
       "Transaction      0\n",
       "Per_Sqft       241\n",
       "dtype: int64"
      ]
     },
     "execution_count": 249,
     "metadata": {},
     "output_type": "execute_result"
    }
   ],
   "source": [
    "df2.isnull().sum()"
   ]
  },
  {
   "cell_type": "code",
   "execution_count": 250,
   "id": "b2373887",
   "metadata": {},
   "outputs": [
    {
     "data": {
      "text/plain": [
       "BHK            0\n",
       "Furnishing     0\n",
       "Locality       0\n",
       "Parking        0\n",
       "Price          0\n",
       "Status         0\n",
       "Transaction    0\n",
       "Per_Sqft       0\n",
       "dtype: int64"
      ]
     },
     "execution_count": 250,
     "metadata": {},
     "output_type": "execute_result"
    }
   ],
   "source": [
    "df3 = df2.dropna()\n",
    "df3.isnull().sum()"
   ]
  },
  {
   "cell_type": "code",
   "execution_count": 251,
   "id": "3122aa78",
   "metadata": {},
   "outputs": [
    {
     "data": {
      "text/plain": [
       "(1005, 8)"
      ]
     },
     "execution_count": 251,
     "metadata": {},
     "output_type": "execute_result"
    }
   ],
   "source": [
    "df3.shape"
   ]
  },
  {
   "cell_type": "code",
   "execution_count": 252,
   "id": "0a0e93e5",
   "metadata": {},
   "outputs": [
    {
     "data": {
      "text/plain": [
       "array([2, 4, 3, 1, 6, 5, 7], dtype=int64)"
      ]
     },
     "execution_count": 252,
     "metadata": {},
     "output_type": "execute_result"
    }
   ],
   "source": [
    "df3[\"BHK\"].unique()"
   ]
  },
  {
   "cell_type": "code",
   "execution_count": 253,
   "id": "0205734a",
   "metadata": {},
   "outputs": [
    {
     "data": {
      "text/html": [
       "<div>\n",
       "<style scoped>\n",
       "    .dataframe tbody tr th:only-of-type {\n",
       "        vertical-align: middle;\n",
       "    }\n",
       "\n",
       "    .dataframe tbody tr th {\n",
       "        vertical-align: top;\n",
       "    }\n",
       "\n",
       "    .dataframe thead th {\n",
       "        text-align: right;\n",
       "    }\n",
       "</style>\n",
       "<table border=\"1\" class=\"dataframe\">\n",
       "  <thead>\n",
       "    <tr style=\"text-align: right;\">\n",
       "      <th></th>\n",
       "      <th>BHK</th>\n",
       "      <th>Furnishing</th>\n",
       "      <th>Locality</th>\n",
       "      <th>Parking</th>\n",
       "      <th>Price</th>\n",
       "      <th>Status</th>\n",
       "      <th>Transaction</th>\n",
       "      <th>Per_Sqft</th>\n",
       "    </tr>\n",
       "  </thead>\n",
       "  <tbody>\n",
       "    <tr>\n",
       "      <th>345</th>\n",
       "      <td>7</td>\n",
       "      <td>Furnished</td>\n",
       "      <td>Yamuna Vihar, Shahdara</td>\n",
       "      <td>1.0</td>\n",
       "      <td>26500000</td>\n",
       "      <td>Ready_to_move</td>\n",
       "      <td>Resale</td>\n",
       "      <td>8923.0</td>\n",
       "    </tr>\n",
       "  </tbody>\n",
       "</table>\n",
       "</div>"
      ],
      "text/plain": [
       "     BHK Furnishing                Locality  Parking     Price         Status  \\\n",
       "345    7  Furnished  Yamuna Vihar, Shahdara      1.0  26500000  Ready_to_move   \n",
       "\n",
       "    Transaction  Per_Sqft  \n",
       "345      Resale    8923.0  "
      ]
     },
     "execution_count": 253,
     "metadata": {},
     "output_type": "execute_result"
    }
   ],
   "source": [
    "df3[df3.BHK>6]"
   ]
  },
  {
   "cell_type": "code",
   "execution_count": 254,
   "id": "dce6b2b7",
   "metadata": {},
   "outputs": [
    {
     "data": {
      "text/plain": [
       "array([  5000000,  15500000,   4200000,   6200000,  10000000,   4000000,\n",
       "         6800000,  15000000,   7700000,   5500000,   3310000,   4700000,\n",
       "         4500000,  17000000,  25000000,   6000000,  11000000,   5300000,\n",
       "        10500000,  12000000,   7000000,   3400000,  21000000,  13000000,\n",
       "        22000000,  15800000,  57500000,  30000000,  24000000,  31500000,\n",
       "        14600000, 240000000,   8300000,  22500000,   1900000,   5130000,\n",
       "         5890000,   3700000,  17400000,   2400000,  17200000,  14200000,\n",
       "        13500000,  20500000,  16500000,  14900000,  19200000,  14500000,\n",
       "        15600000,  11400000,  16000000,  14800000,   1850000,  40000000,\n",
       "        46000000,  55000000,  24500000,  32500000,  20000000,  19000000,\n",
       "        26000000,  27500000,  45000000,  28000000,  29500000,  12500000,\n",
       "        11500000,  25500000,  31000000,  13400000,  35000000,   6300000,\n",
       "        10300000,  28500000,   3600000,   4300000,   1650000,   2000000,\n",
       "         3000000,   1400000,   2600000,   5100000,   3500000,   7600000,\n",
       "         6500000,   7300000,   2800000,   2200000,   4400000,   4100000,\n",
       "        17500000,   3800000,  23000000, 135000000,  93000000,   4370000,\n",
       "         4620000,  70000000,   3300000,  24900000,  60000000,  51000000,\n",
       "       170000000,   5510000,  57000000,   2940000,  65000000, 220000000,\n",
       "        38500000,  50000000,  75000000, 160000000,  85000000,  90000000,\n",
       "        56000000, 135500000,  58000000,  37500000,  52500000, 120000000,\n",
       "        47500000,  79000000,  43000000,  51100000,  26500000,  38000000,\n",
       "        72500000,   9300000,   2700000,   5800000,   2900000,   1550000,\n",
       "        11300000,   9000000,  14000000,   2500000,   8000000,   5700000,\n",
       "        18500000,   8700000,   7500000,   1700000,   6600000,   5400000,\n",
       "         2550000,   5600000,   2300000,   3200000,   2150000,   3100000,\n",
       "         4800000,   8200000,   9500000,   7400000,  55300000,  10400000,\n",
       "        27000000,  19500000,  21100000,   5900000,   1500000,   3950000,\n",
       "         1600000,  23500000,  29000000,  21900000,  41000000,  21500000,\n",
       "        28900000,   1950000,   2670000,  34000000,  30500000,  33700000,\n",
       "        43500000,  52100000,  87500000,  16300000,   8500000,  82500000,\n",
       "        42500000,  80000000,  74000000,   8770000,   8600000,  13100000,\n",
       "        23100000,  18000000,  10700000,  16200000,  35500000,  42100000,\n",
       "        44000000,  43200000,  34300000,  37000000,  36200000,  36500000,\n",
       "        71500000,  28600000,  39000000,  14300000,  10800000,   2350000,\n",
       "         4900000,   7020000,   5990000,   1800000,   7200000,   8400000,\n",
       "         2100000,   1200000,   3790000,   5200000,   2850000,   1490000,\n",
       "         1750000,   4600000,   1000000,  67000000, 100000000,  36000000,\n",
       "         8100000,  62500000,   6900000,   9200000,   9030000,   6700000,\n",
       "        11600000,   9800000,  24700000,  24800000,  25900000,  11700000,\n",
       "         4950000,  68900000,  61500000,  39700000,   6540000,  73700000,\n",
       "        52300000,   3900000,  20900000,  43100000,  18800000, 115000000,\n",
       "        75100000,   7800000,  16100000, 180000000,  71000000, 190000000,\n",
       "        47000000, 110000000, 102500000,  33500000,  14700000,  22200000],\n",
       "      dtype=int64)"
      ]
     },
     "execution_count": 254,
     "metadata": {},
     "output_type": "execute_result"
    }
   ],
   "source": [
    "df3.Price.unique()"
   ]
  },
  {
   "cell_type": "code",
   "execution_count": 255,
   "id": "0207b0cd",
   "metadata": {},
   "outputs": [
    {
     "data": {
      "text/html": [
       "<div>\n",
       "<style scoped>\n",
       "    .dataframe tbody tr th:only-of-type {\n",
       "        vertical-align: middle;\n",
       "    }\n",
       "\n",
       "    .dataframe tbody tr th {\n",
       "        vertical-align: top;\n",
       "    }\n",
       "\n",
       "    .dataframe thead th {\n",
       "        text-align: right;\n",
       "    }\n",
       "</style>\n",
       "<table border=\"1\" class=\"dataframe\">\n",
       "  <thead>\n",
       "    <tr style=\"text-align: right;\">\n",
       "      <th></th>\n",
       "      <th>BHK</th>\n",
       "      <th>Furnishing</th>\n",
       "      <th>Locality</th>\n",
       "      <th>Parking</th>\n",
       "      <th>Price</th>\n",
       "      <th>Status</th>\n",
       "      <th>Transaction</th>\n",
       "      <th>Per_Sqft</th>\n",
       "    </tr>\n",
       "  </thead>\n",
       "  <tbody>\n",
       "    <tr>\n",
       "      <th>1</th>\n",
       "      <td>2</td>\n",
       "      <td>Semi-Furnished</td>\n",
       "      <td>J R Designers Floors, Rohini Sector 24</td>\n",
       "      <td>1.0</td>\n",
       "      <td>5000000</td>\n",
       "      <td>Ready_to_move</td>\n",
       "      <td>New_Property</td>\n",
       "      <td>6667.0</td>\n",
       "    </tr>\n",
       "    <tr>\n",
       "      <th>2</th>\n",
       "      <td>2</td>\n",
       "      <td>Furnished</td>\n",
       "      <td>Citizen Apartment, Rohini Sector 13</td>\n",
       "      <td>1.0</td>\n",
       "      <td>15500000</td>\n",
       "      <td>Ready_to_move</td>\n",
       "      <td>Resale</td>\n",
       "      <td>6667.0</td>\n",
       "    </tr>\n",
       "    <tr>\n",
       "      <th>3</th>\n",
       "      <td>2</td>\n",
       "      <td>Semi-Furnished</td>\n",
       "      <td>Rohini Sector 24</td>\n",
       "      <td>1.0</td>\n",
       "      <td>4200000</td>\n",
       "      <td>Ready_to_move</td>\n",
       "      <td>Resale</td>\n",
       "      <td>6667.0</td>\n",
       "    </tr>\n",
       "  </tbody>\n",
       "</table>\n",
       "</div>"
      ],
      "text/plain": [
       "   BHK      Furnishing                                Locality  Parking  \\\n",
       "1    2  Semi-Furnished  J R Designers Floors, Rohini Sector 24      1.0   \n",
       "2    2       Furnished     Citizen Apartment, Rohini Sector 13      1.0   \n",
       "3    2  Semi-Furnished                        Rohini Sector 24      1.0   \n",
       "\n",
       "      Price         Status   Transaction  Per_Sqft  \n",
       "1   5000000  Ready_to_move  New_Property    6667.0  \n",
       "2  15500000  Ready_to_move        Resale    6667.0  \n",
       "3   4200000  Ready_to_move        Resale    6667.0  "
      ]
     },
     "execution_count": 255,
     "metadata": {},
     "output_type": "execute_result"
    }
   ],
   "source": [
    "df3.head(3)"
   ]
  },
  {
   "cell_type": "code",
   "execution_count": 256,
   "id": "10a3510a",
   "metadata": {},
   "outputs": [
    {
     "data": {
      "text/html": [
       "<div>\n",
       "<style scoped>\n",
       "    .dataframe tbody tr th:only-of-type {\n",
       "        vertical-align: middle;\n",
       "    }\n",
       "\n",
       "    .dataframe tbody tr th {\n",
       "        vertical-align: top;\n",
       "    }\n",
       "\n",
       "    .dataframe thead th {\n",
       "        text-align: right;\n",
       "    }\n",
       "</style>\n",
       "<table border=\"1\" class=\"dataframe\">\n",
       "  <thead>\n",
       "    <tr style=\"text-align: right;\">\n",
       "      <th></th>\n",
       "      <th>BHK</th>\n",
       "      <th>Furnishing</th>\n",
       "      <th>Locality</th>\n",
       "      <th>Parking</th>\n",
       "      <th>Price</th>\n",
       "      <th>Status</th>\n",
       "      <th>Transaction</th>\n",
       "      <th>Per_Sqft</th>\n",
       "      <th>Price_Per_Sqft</th>\n",
       "    </tr>\n",
       "  </thead>\n",
       "  <tbody>\n",
       "    <tr>\n",
       "      <th>1</th>\n",
       "      <td>2</td>\n",
       "      <td>Semi-Furnished</td>\n",
       "      <td>J R Designers Floors, Rohini Sector 24</td>\n",
       "      <td>1.0</td>\n",
       "      <td>5000000</td>\n",
       "      <td>Ready_to_move</td>\n",
       "      <td>New_Property</td>\n",
       "      <td>6667.0</td>\n",
       "      <td>7499.625019</td>\n",
       "    </tr>\n",
       "    <tr>\n",
       "      <th>2</th>\n",
       "      <td>2</td>\n",
       "      <td>Furnished</td>\n",
       "      <td>Citizen Apartment, Rohini Sector 13</td>\n",
       "      <td>1.0</td>\n",
       "      <td>15500000</td>\n",
       "      <td>Ready_to_move</td>\n",
       "      <td>Resale</td>\n",
       "      <td>6667.0</td>\n",
       "      <td>23248.837558</td>\n",
       "    </tr>\n",
       "    <tr>\n",
       "      <th>3</th>\n",
       "      <td>2</td>\n",
       "      <td>Semi-Furnished</td>\n",
       "      <td>Rohini Sector 24</td>\n",
       "      <td>1.0</td>\n",
       "      <td>4200000</td>\n",
       "      <td>Ready_to_move</td>\n",
       "      <td>Resale</td>\n",
       "      <td>6667.0</td>\n",
       "      <td>6299.685016</td>\n",
       "    </tr>\n",
       "    <tr>\n",
       "      <th>4</th>\n",
       "      <td>2</td>\n",
       "      <td>Semi-Furnished</td>\n",
       "      <td>Rohini Sector 24 carpet area 650 sqft status R...</td>\n",
       "      <td>1.0</td>\n",
       "      <td>6200000</td>\n",
       "      <td>Ready_to_move</td>\n",
       "      <td>New_Property</td>\n",
       "      <td>6667.0</td>\n",
       "      <td>9299.535023</td>\n",
       "    </tr>\n",
       "    <tr>\n",
       "      <th>5</th>\n",
       "      <td>4</td>\n",
       "      <td>Semi-Furnished</td>\n",
       "      <td>Rohini Sector 24</td>\n",
       "      <td>1.0</td>\n",
       "      <td>15500000</td>\n",
       "      <td>Ready_to_move</td>\n",
       "      <td>New_Property</td>\n",
       "      <td>6667.0</td>\n",
       "      <td>23248.837558</td>\n",
       "    </tr>\n",
       "  </tbody>\n",
       "</table>\n",
       "</div>"
      ],
      "text/plain": [
       "   BHK      Furnishing                                           Locality  \\\n",
       "1    2  Semi-Furnished             J R Designers Floors, Rohini Sector 24   \n",
       "2    2       Furnished                Citizen Apartment, Rohini Sector 13   \n",
       "3    2  Semi-Furnished                                   Rohini Sector 24   \n",
       "4    2  Semi-Furnished  Rohini Sector 24 carpet area 650 sqft status R...   \n",
       "5    4  Semi-Furnished                                   Rohini Sector 24   \n",
       "\n",
       "   Parking     Price         Status   Transaction  Per_Sqft  Price_Per_Sqft  \n",
       "1      1.0   5000000  Ready_to_move  New_Property    6667.0     7499.625019  \n",
       "2      1.0  15500000  Ready_to_move        Resale    6667.0    23248.837558  \n",
       "3      1.0   4200000  Ready_to_move        Resale    6667.0     6299.685016  \n",
       "4      1.0   6200000  Ready_to_move  New_Property    6667.0     9299.535023  \n",
       "5      1.0  15500000  Ready_to_move  New_Property    6667.0    23248.837558  "
      ]
     },
     "execution_count": 256,
     "metadata": {},
     "output_type": "execute_result"
    }
   ],
   "source": [
    "df4 = df3.copy()\n",
    "df4[\"Price_Per_Sqft\"] = df4[\"Price\"]*10/df4[\"Per_Sqft\"]\n",
    "df4.head()"
   ]
  },
  {
   "cell_type": "code",
   "execution_count": 257,
   "id": "0e39f82f",
   "metadata": {},
   "outputs": [
    {
     "data": {
      "text/plain": [
       "304"
      ]
     },
     "execution_count": 257,
     "metadata": {},
     "output_type": "execute_result"
    }
   ],
   "source": [
    "len(df4.Locality.unique())"
   ]
  },
  {
   "cell_type": "code",
   "execution_count": 258,
   "id": "aaa778f0",
   "metadata": {},
   "outputs": [
    {
     "name": "stderr",
     "output_type": "stream",
     "text": [
      "<ipython-input-258-6089c82a7a5e>:1: UserWarning: Pandas doesn't allow columns to be created via a new attribute name - see https://pandas.pydata.org/pandas-docs/stable/indexing.html#attribute-access\n",
      "  df4.Loclity = df4.Locality.apply(lambda x: x.strip())\n"
     ]
    },
    {
     "data": {
      "text/plain": [
       "Locality\n",
       "J R Designers Floors, Rohini Sector 24                                                                                                                                                                                                                                                                                                                                                                                                                                                                                                                                                                                                                                                                                                                                                                                                         31\n",
       "Kailash Colony, Greater Kailash                                                                                                                                                                                                                                                                                                                                                                                                                                                                                                                                                                                                                                                                                                                                                                                                                27\n",
       "Lajpat Nagar 2                                                                                                                                                                                                                                                                                                                                                                                                                                                                                                                                                                                                                                                                                                                                                                                                                                 27\n",
       "Yamuna Vihar, Shahdara                                                                                                                                                                                                                                                                                                                                                                                                                                                                                                                                                                                                                                                                                                                                                                                                                         27\n",
       "Chittaranjan Park                                                                                                                                                                                                                                                                                                                                                                                                                                                                                                                                                                                                                                                                                                                                                                                                                              23\n",
       "                                                                                                                                                                                                                                                                                                                                                                                                                                                                                                                                                                                                                                                                                                                                                                                                                                               ..\n",
       "Laxmi Nagar carpet area 1000 sqft status Ready to Move floor 1 out of 4 floors transaction Resale furnishing Furnished bathroom 3 balcony 1 It's a 1st floor Builder Floor Apartment in a building of total 4 floors. The age of construction for this Builder Floor Apartment is between 10 to 15 years. The location has easy access to, Dena Bank (0 km ), Delhi Convent School (0 km ), DDA Market (0 km ) and Nirman Vihar Metro Station (2 km ). read more Contact Owner View Phone No. Share Feedback Owner Vipul Jain                                                                                                                                                                                                                                                                                                                   1\n",
       "Laxmi Nagar super area 450 sqft status Ready to Move floor 3 out of 4 floors transaction New Property furnishing Semi-Furnished facing East overlooking Main Road bathroom 2 balcony 1 ownership Freehold Newly Constructed Property East Facing Property This Builder Floor Apartment at 3rd faces East & overlooks Main Road offering a beautiful view from the house. with airy interiors. The type of ownership is Freehold. The Builder Floor Apartment is newly constructed. Bank loans available from LIC Housing Finance, Kotak Mahindra Bank, Indiabulls. Flooring of type Marble covers maximum part of the house. The location has easy access to, Dena Bank (0 km ), Delhi Convent School (0 km ), DDA Market (0 km ) and Nirman Vihar Metro Station (2 km ). read more Contact Owner View Phone No. Share Feedback Owner Sonia     1\n",
       "Mahavir Enclave carpet area 565 sqft status Ready to Move floor Ground out of 1 floor transaction Resale furnishing Unfurnished facing East car parking 1 Covered bathroom 2 balcony 1 ownership Freehold East Facing Property This Freehold Builder Floor Apartment is located at Ground floor in a building of total 1 floors. The age of construction for this apartment Builder Floor Apartment is Less than 5 years. High quality flooring of types Granite are available in different rooms. read more Contact Owner View Phone No. Share Feedback Owner Adesh Sah                                                                                                                                                                                                                                                                        1\n",
       "Mahesh Apartment, Vasundhara Enclave                                                                                                                                                                                                                                                                                                                                                                                                                                                                                                                                                                                                                                                                                                                                                                                                            1\n",
       "mind. The space is airy, is well located and can be easily customized as per the needs. Prime facilities are easily accessible from this place with Government Girls Senior Secondary School No 2 (0 km ). Other key neighbourhood are B Block Market (0 km ). read more Contact Owner View Phone No. Share Feedback Owner vinod kumar                                                                                                                                                                                                                                                                                                                                                                                                                                                                                                          1\n",
       "Name: Locality, Length: 304, dtype: int64"
      ]
     },
     "execution_count": 258,
     "metadata": {},
     "output_type": "execute_result"
    }
   ],
   "source": [
    "df4.Loclity = df4.Locality.apply(lambda x: x.strip())\n",
    "location_stats = df4.groupby(\"Locality\")[\"Locality\"].agg(\"count\").sort_values(ascending=False)\n",
    "location_stats"
   ]
  },
  {
   "cell_type": "code",
   "execution_count": 259,
   "id": "9e06aca1",
   "metadata": {},
   "outputs": [
    {
     "data": {
      "text/plain": [
       "296"
      ]
     },
     "execution_count": 259,
     "metadata": {},
     "output_type": "execute_result"
    }
   ],
   "source": [
    "len(location_stats[location_stats<=20])"
   ]
  },
  {
   "cell_type": "code",
   "execution_count": 260,
   "id": "a32aa752",
   "metadata": {},
   "outputs": [
    {
     "data": {
      "text/plain": [
       "Locality\n",
       "Lajpat Nagar 3                                                                                                                                                                                                                                                                                                                                                                                                                                                                                                                                                                                                                                                                                                                                                                                                                                 20\n",
       "Safdarjung Enclave                                                                                                                                                                                                                                                                                                                                                                                                                                                                                                                                                                                                                                                                                                                                                                                                                             17\n",
       "The Amaryllis, Karol Bagh                                                                                                                                                                                                                                                                                                                                                                                                                                                                                                                                                                                                                                                                                                                                                                                                                      17\n",
       "Alaknanda                                                                                                                                                                                                                                                                                                                                                                                                                                                                                                                                                                                                                                                                                                                                                                                                                                      16\n",
       "Common Wealth Games Village, Commonwealth Games Village 2010                                                                                                                                                                                                                                                                                                                                                                                                                                                                                                                                                                                                                                                                                                                                                                                   15\n",
       "                                                                                                                                                                                                                                                                                                                                                                                                                                                                                                                                                                                                                                                                                                                                                                                                                                               ..\n",
       "Laxmi Nagar carpet area 1000 sqft status Ready to Move floor 1 out of 4 floors transaction Resale furnishing Furnished bathroom 3 balcony 1 It's a 1st floor Builder Floor Apartment in a building of total 4 floors. The age of construction for this Builder Floor Apartment is between 10 to 15 years. The location has easy access to, Dena Bank (0 km ), Delhi Convent School (0 km ), DDA Market (0 km ) and Nirman Vihar Metro Station (2 km ). read more Contact Owner View Phone No. Share Feedback Owner Vipul Jain                                                                                                                                                                                                                                                                                                                   1\n",
       "Laxmi Nagar super area 450 sqft status Ready to Move floor 3 out of 4 floors transaction New Property furnishing Semi-Furnished facing East overlooking Main Road bathroom 2 balcony 1 ownership Freehold Newly Constructed Property East Facing Property This Builder Floor Apartment at 3rd faces East & overlooks Main Road offering a beautiful view from the house. with airy interiors. The type of ownership is Freehold. The Builder Floor Apartment is newly constructed. Bank loans available from LIC Housing Finance, Kotak Mahindra Bank, Indiabulls. Flooring of type Marble covers maximum part of the house. The location has easy access to, Dena Bank (0 km ), Delhi Convent School (0 km ), DDA Market (0 km ) and Nirman Vihar Metro Station (2 km ). read more Contact Owner View Phone No. Share Feedback Owner Sonia     1\n",
       "Mahavir Enclave carpet area 565 sqft status Ready to Move floor Ground out of 1 floor transaction Resale furnishing Unfurnished facing East car parking 1 Covered bathroom 2 balcony 1 ownership Freehold East Facing Property This Freehold Builder Floor Apartment is located at Ground floor in a building of total 1 floors. The age of construction for this apartment Builder Floor Apartment is Less than 5 years. High quality flooring of types Granite are available in different rooms. read more Contact Owner View Phone No. Share Feedback Owner Adesh Sah                                                                                                                                                                                                                                                                        1\n",
       "Mahesh Apartment, Vasundhara Enclave                                                                                                                                                                                                                                                                                                                                                                                                                                                                                                                                                                                                                                                                                                                                                                                                            1\n",
       "mind. The space is airy, is well located and can be easily customized as per the needs. Prime facilities are easily accessible from this place with Government Girls Senior Secondary School No 2 (0 km ). Other key neighbourhood are B Block Market (0 km ). read more Contact Owner View Phone No. Share Feedback Owner vinod kumar                                                                                                                                                                                                                                                                                                                                                                                                                                                                                                          1\n",
       "Name: Locality, Length: 296, dtype: int64"
      ]
     },
     "execution_count": 260,
     "metadata": {},
     "output_type": "execute_result"
    }
   ],
   "source": [
    "location_stats_less_than_20 = location_stats[location_stats<=20]\n",
    "location_stats_less_than_20"
   ]
  },
  {
   "cell_type": "code",
   "execution_count": 261,
   "id": "4872b099",
   "metadata": {},
   "outputs": [
    {
     "data": {
      "text/plain": [
       "304"
      ]
     },
     "execution_count": 261,
     "metadata": {},
     "output_type": "execute_result"
    }
   ],
   "source": [
    "len(df4.Locality.unique())"
   ]
  },
  {
   "cell_type": "code",
   "execution_count": 262,
   "id": "23fb084e",
   "metadata": {},
   "outputs": [
    {
     "data": {
      "text/plain": [
       "9"
      ]
     },
     "execution_count": 262,
     "metadata": {},
     "output_type": "execute_result"
    }
   ],
   "source": [
    "df4.Locality = df4.Locality.apply(lambda x: \"other\" if x in location_stats_less_than_20 else x)\n",
    "len(df4.Locality.unique())"
   ]
  },
  {
   "cell_type": "code",
   "execution_count": 263,
   "id": "120db222",
   "metadata": {},
   "outputs": [
    {
     "data": {
      "text/html": [
       "<div>\n",
       "<style scoped>\n",
       "    .dataframe tbody tr th:only-of-type {\n",
       "        vertical-align: middle;\n",
       "    }\n",
       "\n",
       "    .dataframe tbody tr th {\n",
       "        vertical-align: top;\n",
       "    }\n",
       "\n",
       "    .dataframe thead th {\n",
       "        text-align: right;\n",
       "    }\n",
       "</style>\n",
       "<table border=\"1\" class=\"dataframe\">\n",
       "  <thead>\n",
       "    <tr style=\"text-align: right;\">\n",
       "      <th></th>\n",
       "      <th>BHK</th>\n",
       "      <th>Furnishing</th>\n",
       "      <th>Locality</th>\n",
       "      <th>Parking</th>\n",
       "      <th>Price</th>\n",
       "      <th>Status</th>\n",
       "      <th>Transaction</th>\n",
       "      <th>Per_Sqft</th>\n",
       "      <th>Price_Per_Sqft</th>\n",
       "    </tr>\n",
       "  </thead>\n",
       "  <tbody>\n",
       "    <tr>\n",
       "      <th>1</th>\n",
       "      <td>2</td>\n",
       "      <td>Semi-Furnished</td>\n",
       "      <td>J R Designers Floors, Rohini Sector 24</td>\n",
       "      <td>1.0</td>\n",
       "      <td>5000000</td>\n",
       "      <td>Ready_to_move</td>\n",
       "      <td>New_Property</td>\n",
       "      <td>6667.0</td>\n",
       "      <td>7499.625019</td>\n",
       "    </tr>\n",
       "    <tr>\n",
       "      <th>2</th>\n",
       "      <td>2</td>\n",
       "      <td>Furnished</td>\n",
       "      <td>other</td>\n",
       "      <td>1.0</td>\n",
       "      <td>15500000</td>\n",
       "      <td>Ready_to_move</td>\n",
       "      <td>Resale</td>\n",
       "      <td>6667.0</td>\n",
       "      <td>23248.837558</td>\n",
       "    </tr>\n",
       "    <tr>\n",
       "      <th>3</th>\n",
       "      <td>2</td>\n",
       "      <td>Semi-Furnished</td>\n",
       "      <td>other</td>\n",
       "      <td>1.0</td>\n",
       "      <td>4200000</td>\n",
       "      <td>Ready_to_move</td>\n",
       "      <td>Resale</td>\n",
       "      <td>6667.0</td>\n",
       "      <td>6299.685016</td>\n",
       "    </tr>\n",
       "    <tr>\n",
       "      <th>4</th>\n",
       "      <td>2</td>\n",
       "      <td>Semi-Furnished</td>\n",
       "      <td>other</td>\n",
       "      <td>1.0</td>\n",
       "      <td>6200000</td>\n",
       "      <td>Ready_to_move</td>\n",
       "      <td>New_Property</td>\n",
       "      <td>6667.0</td>\n",
       "      <td>9299.535023</td>\n",
       "    </tr>\n",
       "    <tr>\n",
       "      <th>5</th>\n",
       "      <td>4</td>\n",
       "      <td>Semi-Furnished</td>\n",
       "      <td>other</td>\n",
       "      <td>1.0</td>\n",
       "      <td>15500000</td>\n",
       "      <td>Ready_to_move</td>\n",
       "      <td>New_Property</td>\n",
       "      <td>6667.0</td>\n",
       "      <td>23248.837558</td>\n",
       "    </tr>\n",
       "    <tr>\n",
       "      <th>6</th>\n",
       "      <td>4</td>\n",
       "      <td>Semi-Furnished</td>\n",
       "      <td>other</td>\n",
       "      <td>1.0</td>\n",
       "      <td>10000000</td>\n",
       "      <td>Ready_to_move</td>\n",
       "      <td>Resale</td>\n",
       "      <td>6667.0</td>\n",
       "      <td>14999.250037</td>\n",
       "    </tr>\n",
       "    <tr>\n",
       "      <th>7</th>\n",
       "      <td>2</td>\n",
       "      <td>Semi-Furnished</td>\n",
       "      <td>other</td>\n",
       "      <td>1.0</td>\n",
       "      <td>4000000</td>\n",
       "      <td>Ready_to_move</td>\n",
       "      <td>New_Property</td>\n",
       "      <td>6154.0</td>\n",
       "      <td>6499.837504</td>\n",
       "    </tr>\n",
       "    <tr>\n",
       "      <th>8</th>\n",
       "      <td>3</td>\n",
       "      <td>Unfurnished</td>\n",
       "      <td>other</td>\n",
       "      <td>1.0</td>\n",
       "      <td>6800000</td>\n",
       "      <td>Almost_ready</td>\n",
       "      <td>New_Property</td>\n",
       "      <td>6154.0</td>\n",
       "      <td>11049.723757</td>\n",
       "    </tr>\n",
       "    <tr>\n",
       "      <th>9</th>\n",
       "      <td>4</td>\n",
       "      <td>Semi-Furnished</td>\n",
       "      <td>other</td>\n",
       "      <td>1.0</td>\n",
       "      <td>15000000</td>\n",
       "      <td>Ready_to_move</td>\n",
       "      <td>New_Property</td>\n",
       "      <td>6154.0</td>\n",
       "      <td>24374.390640</td>\n",
       "    </tr>\n",
       "    <tr>\n",
       "      <th>10</th>\n",
       "      <td>3</td>\n",
       "      <td>Semi-Furnished</td>\n",
       "      <td>other</td>\n",
       "      <td>1.0</td>\n",
       "      <td>6200000</td>\n",
       "      <td>Ready_to_move</td>\n",
       "      <td>New_Property</td>\n",
       "      <td>6154.0</td>\n",
       "      <td>10074.748131</td>\n",
       "    </tr>\n",
       "    <tr>\n",
       "      <th>11</th>\n",
       "      <td>3</td>\n",
       "      <td>Semi-Furnished</td>\n",
       "      <td>other</td>\n",
       "      <td>1.0</td>\n",
       "      <td>7700000</td>\n",
       "      <td>Ready_to_move</td>\n",
       "      <td>New_Property</td>\n",
       "      <td>6154.0</td>\n",
       "      <td>12512.187195</td>\n",
       "    </tr>\n",
       "    <tr>\n",
       "      <th>12</th>\n",
       "      <td>2</td>\n",
       "      <td>Semi-Furnished</td>\n",
       "      <td>other</td>\n",
       "      <td>1.0</td>\n",
       "      <td>5500000</td>\n",
       "      <td>Ready_to_move</td>\n",
       "      <td>New_Property</td>\n",
       "      <td>6154.0</td>\n",
       "      <td>8937.276568</td>\n",
       "    </tr>\n",
       "    <tr>\n",
       "      <th>13</th>\n",
       "      <td>2</td>\n",
       "      <td>Semi-Furnished</td>\n",
       "      <td>other</td>\n",
       "      <td>1.0</td>\n",
       "      <td>5000000</td>\n",
       "      <td>Ready_to_move</td>\n",
       "      <td>Resale</td>\n",
       "      <td>6154.0</td>\n",
       "      <td>8124.796880</td>\n",
       "    </tr>\n",
       "    <tr>\n",
       "      <th>14</th>\n",
       "      <td>2</td>\n",
       "      <td>Semi-Furnished</td>\n",
       "      <td>other</td>\n",
       "      <td>1.0</td>\n",
       "      <td>3310000</td>\n",
       "      <td>Ready_to_move</td>\n",
       "      <td>Resale</td>\n",
       "      <td>6154.0</td>\n",
       "      <td>5378.615535</td>\n",
       "    </tr>\n",
       "    <tr>\n",
       "      <th>15</th>\n",
       "      <td>2</td>\n",
       "      <td>Semi-Furnished</td>\n",
       "      <td>other</td>\n",
       "      <td>1.0</td>\n",
       "      <td>4700000</td>\n",
       "      <td>Ready_to_move</td>\n",
       "      <td>New_Property</td>\n",
       "      <td>6154.0</td>\n",
       "      <td>7637.309067</td>\n",
       "    </tr>\n",
       "    <tr>\n",
       "      <th>16</th>\n",
       "      <td>2</td>\n",
       "      <td>Semi-Furnished</td>\n",
       "      <td>other</td>\n",
       "      <td>1.0</td>\n",
       "      <td>4500000</td>\n",
       "      <td>Ready_to_move</td>\n",
       "      <td>New_Property</td>\n",
       "      <td>6154.0</td>\n",
       "      <td>7312.317192</td>\n",
       "    </tr>\n",
       "    <tr>\n",
       "      <th>17</th>\n",
       "      <td>4</td>\n",
       "      <td>Semi-Furnished</td>\n",
       "      <td>other</td>\n",
       "      <td>1.0</td>\n",
       "      <td>17000000</td>\n",
       "      <td>Ready_to_move</td>\n",
       "      <td>New_Property</td>\n",
       "      <td>6154.0</td>\n",
       "      <td>27624.309392</td>\n",
       "    </tr>\n",
       "    <tr>\n",
       "      <th>18</th>\n",
       "      <td>3</td>\n",
       "      <td>Semi-Furnished</td>\n",
       "      <td>other</td>\n",
       "      <td>1.0</td>\n",
       "      <td>25000000</td>\n",
       "      <td>Ready_to_move</td>\n",
       "      <td>Resale</td>\n",
       "      <td>6154.0</td>\n",
       "      <td>40623.984400</td>\n",
       "    </tr>\n",
       "    <tr>\n",
       "      <th>19</th>\n",
       "      <td>2</td>\n",
       "      <td>Semi-Furnished</td>\n",
       "      <td>other</td>\n",
       "      <td>1.0</td>\n",
       "      <td>6000000</td>\n",
       "      <td>Ready_to_move</td>\n",
       "      <td>Resale</td>\n",
       "      <td>6154.0</td>\n",
       "      <td>9749.756256</td>\n",
       "    </tr>\n",
       "    <tr>\n",
       "      <th>20</th>\n",
       "      <td>2</td>\n",
       "      <td>Semi-Furnished</td>\n",
       "      <td>other</td>\n",
       "      <td>1.0</td>\n",
       "      <td>11000000</td>\n",
       "      <td>Ready_to_move</td>\n",
       "      <td>Resale</td>\n",
       "      <td>6154.0</td>\n",
       "      <td>17874.553136</td>\n",
       "    </tr>\n",
       "  </tbody>\n",
       "</table>\n",
       "</div>"
      ],
      "text/plain": [
       "    BHK      Furnishing                                Locality  Parking  \\\n",
       "1     2  Semi-Furnished  J R Designers Floors, Rohini Sector 24      1.0   \n",
       "2     2       Furnished                                   other      1.0   \n",
       "3     2  Semi-Furnished                                   other      1.0   \n",
       "4     2  Semi-Furnished                                   other      1.0   \n",
       "5     4  Semi-Furnished                                   other      1.0   \n",
       "6     4  Semi-Furnished                                   other      1.0   \n",
       "7     2  Semi-Furnished                                   other      1.0   \n",
       "8     3     Unfurnished                                   other      1.0   \n",
       "9     4  Semi-Furnished                                   other      1.0   \n",
       "10    3  Semi-Furnished                                   other      1.0   \n",
       "11    3  Semi-Furnished                                   other      1.0   \n",
       "12    2  Semi-Furnished                                   other      1.0   \n",
       "13    2  Semi-Furnished                                   other      1.0   \n",
       "14    2  Semi-Furnished                                   other      1.0   \n",
       "15    2  Semi-Furnished                                   other      1.0   \n",
       "16    2  Semi-Furnished                                   other      1.0   \n",
       "17    4  Semi-Furnished                                   other      1.0   \n",
       "18    3  Semi-Furnished                                   other      1.0   \n",
       "19    2  Semi-Furnished                                   other      1.0   \n",
       "20    2  Semi-Furnished                                   other      1.0   \n",
       "\n",
       "       Price         Status   Transaction  Per_Sqft  Price_Per_Sqft  \n",
       "1    5000000  Ready_to_move  New_Property    6667.0     7499.625019  \n",
       "2   15500000  Ready_to_move        Resale    6667.0    23248.837558  \n",
       "3    4200000  Ready_to_move        Resale    6667.0     6299.685016  \n",
       "4    6200000  Ready_to_move  New_Property    6667.0     9299.535023  \n",
       "5   15500000  Ready_to_move  New_Property    6667.0    23248.837558  \n",
       "6   10000000  Ready_to_move        Resale    6667.0    14999.250037  \n",
       "7    4000000  Ready_to_move  New_Property    6154.0     6499.837504  \n",
       "8    6800000   Almost_ready  New_Property    6154.0    11049.723757  \n",
       "9   15000000  Ready_to_move  New_Property    6154.0    24374.390640  \n",
       "10   6200000  Ready_to_move  New_Property    6154.0    10074.748131  \n",
       "11   7700000  Ready_to_move  New_Property    6154.0    12512.187195  \n",
       "12   5500000  Ready_to_move  New_Property    6154.0     8937.276568  \n",
       "13   5000000  Ready_to_move        Resale    6154.0     8124.796880  \n",
       "14   3310000  Ready_to_move        Resale    6154.0     5378.615535  \n",
       "15   4700000  Ready_to_move  New_Property    6154.0     7637.309067  \n",
       "16   4500000  Ready_to_move  New_Property    6154.0     7312.317192  \n",
       "17  17000000  Ready_to_move  New_Property    6154.0    27624.309392  \n",
       "18  25000000  Ready_to_move        Resale    6154.0    40623.984400  \n",
       "19   6000000  Ready_to_move        Resale    6154.0     9749.756256  \n",
       "20  11000000  Ready_to_move        Resale    6154.0    17874.553136  "
      ]
     },
     "execution_count": 263,
     "metadata": {},
     "output_type": "execute_result"
    }
   ],
   "source": [
    "df4.head(20)"
   ]
  },
  {
   "cell_type": "code",
   "execution_count": 264,
   "id": "ca94e9bf",
   "metadata": {},
   "outputs": [
    {
     "data": {
      "text/html": [
       "<div>\n",
       "<style scoped>\n",
       "    .dataframe tbody tr th:only-of-type {\n",
       "        vertical-align: middle;\n",
       "    }\n",
       "\n",
       "    .dataframe tbody tr th {\n",
       "        vertical-align: top;\n",
       "    }\n",
       "\n",
       "    .dataframe thead th {\n",
       "        text-align: right;\n",
       "    }\n",
       "</style>\n",
       "<table border=\"1\" class=\"dataframe\">\n",
       "  <thead>\n",
       "    <tr style=\"text-align: right;\">\n",
       "      <th></th>\n",
       "      <th>BHK</th>\n",
       "      <th>Furnishing</th>\n",
       "      <th>Locality</th>\n",
       "      <th>Parking</th>\n",
       "      <th>Price</th>\n",
       "      <th>Status</th>\n",
       "      <th>Transaction</th>\n",
       "      <th>Per_Sqft</th>\n",
       "      <th>Price_Per_Sqft</th>\n",
       "    </tr>\n",
       "  </thead>\n",
       "  <tbody>\n",
       "    <tr>\n",
       "      <th>163</th>\n",
       "      <td>6</td>\n",
       "      <td>Furnished</td>\n",
       "      <td>other</td>\n",
       "      <td>1.0</td>\n",
       "      <td>5100000</td>\n",
       "      <td>Ready_to_move</td>\n",
       "      <td>Resale</td>\n",
       "      <td>1259.0</td>\n",
       "      <td>40508.339952</td>\n",
       "    </tr>\n",
       "  </tbody>\n",
       "</table>\n",
       "</div>"
      ],
      "text/plain": [
       "     BHK Furnishing Locality  Parking    Price         Status Transaction  \\\n",
       "163    6  Furnished    other      1.0  5100000  Ready_to_move      Resale   \n",
       "\n",
       "     Per_Sqft  Price_Per_Sqft  \n",
       "163    1259.0    40508.339952  "
      ]
     },
     "execution_count": 264,
     "metadata": {},
     "output_type": "execute_result"
    }
   ],
   "source": [
    "df4[df4.Per_Sqft/df4.BHK<300].head()"
   ]
  },
  {
   "cell_type": "code",
   "execution_count": 265,
   "id": "fcc65a6d",
   "metadata": {},
   "outputs": [
    {
     "data": {
      "text/plain": [
       "(1005, 9)"
      ]
     },
     "execution_count": 265,
     "metadata": {},
     "output_type": "execute_result"
    }
   ],
   "source": [
    "df4.shape"
   ]
  },
  {
   "cell_type": "code",
   "execution_count": 266,
   "id": "0efe79c8",
   "metadata": {},
   "outputs": [
    {
     "data": {
      "text/plain": [
       "(1004, 9)"
      ]
     },
     "execution_count": 266,
     "metadata": {},
     "output_type": "execute_result"
    }
   ],
   "source": [
    "df5 = df4[~(df4.Per_Sqft/df4.BHK<300)]\n",
    "df5.shape"
   ]
  },
  {
   "cell_type": "code",
   "execution_count": 267,
   "id": "74c67eb4",
   "metadata": {
    "scrolled": true
   },
   "outputs": [
    {
     "data": {
      "text/plain": [
       "count      1004.000000\n",
       "mean      17367.373885\n",
       "std       21353.553117\n",
       "min         349.997083\n",
       "25%        6320.569951\n",
       "50%       12000.192003\n",
       "75%       21250.424463\n",
       "max      313199.105145\n",
       "Name: Price_Per_Sqft, dtype: float64"
      ]
     },
     "execution_count": 267,
     "metadata": {},
     "output_type": "execute_result"
    }
   ],
   "source": [
    "df5.Price_Per_Sqft.describe()"
   ]
  },
  {
   "cell_type": "code",
   "execution_count": 268,
   "id": "eb5837ab",
   "metadata": {},
   "outputs": [
    {
     "data": {
      "text/plain": [
       "(883, 9)"
      ]
     },
     "execution_count": 268,
     "metadata": {},
     "output_type": "execute_result"
    }
   ],
   "source": [
    "def remove_pps_outliers(df):\n",
    "    df_out = pd.DataFrame()\n",
    "    for key, subdf in df.groupby(\"Locality\"):\n",
    "        m = np.mean(subdf.Price_Per_Sqft)\n",
    "        st = np.std(subdf.Price_Per_Sqft)\n",
    "        reduced_df = subdf[(subdf.Price_Per_Sqft>(m-st)) & (subdf.Price_Per_Sqft<=(m+st))]\n",
    "        df_out = pd.concat([df_out,reduced_df],ignore_index=True)\n",
    "    return df_out    \n",
    "\n",
    "df6 = remove_pps_outliers(df5)\n",
    "df6.shape"
   ]
  },
  {
   "cell_type": "code",
   "execution_count": 269,
   "id": "399873a0",
   "metadata": {},
   "outputs": [
    {
     "data": {
      "image/png": "[encoded data removed]",
      "text/plain": [
       "<Figure size 1080x720 with 1 Axes>"
      ]
     },
     "metadata": {
      "needs_background": "light"
     },
     "output_type": "display_data"
    }
   ],
   "source": [
    "def plot_scatter_chart(df,Locality):\n",
    "    BHK2 = df[(df.Locality==Locality) & (df.BHK==2)]\n",
    "    BHK3 = df[(df.Locality==Locality) & (df.BHK==3)]\n",
    "    matplotlib.rcParams[\"figure.figsize\"] = (15,10)\n",
    "    plt.scatter(BHK2.Per_Sqft,BHK2.Price_Per_Sqft,color=\"blue\",label=\"2 BHK\", s=50)\n",
    "    plt.scatter(BHK3.Per_Sqft,BHK3.Price_Per_Sqft,marker=\"*\",color=\"green\",label=\"3 BHK\", s=50)\n",
    "    plt.xlabel(\"Total Square Feet Area\")\n",
    "    plt.ylabel(\"Price Per Square Feet\")\n",
    "    plt.title(Locality)\n",
    "    plt.legend()\n",
    "    \n",
    "plot_scatter_chart(df6,\"other\")"
   ]
  },
  {
   "cell_type": "code",
   "execution_count": 270,
   "id": "b239188b",
   "metadata": {},
   "outputs": [
    {
     "data": {
      "text/plain": [
       "(748, 9)"
      ]
     },
     "execution_count": 270,
     "metadata": {},
     "output_type": "execute_result"
    }
   ],
   "source": [
    "def remove_BHK_outliers(df):\n",
    "    exclude_indices = np.array([])\n",
    "    for Locality, Locality_df in df.groupby(\"Locality\"):\n",
    "        BHK_stats = {}\n",
    "        for BHK,BHK_df in Locality_df.groupby(\"BHK\"):\n",
    "            BHK_stats[BHK] = {\n",
    "                \"mean\": np.mean(BHK_df.Price_Per_Sqft),\n",
    "                \"std\": np.std(BHK_df.Price_Per_Sqft),\n",
    "                \"count\": BHK_df.shape[0]\n",
    "            }\n",
    "        for BHK, BHK_df in Locality_df.groupby(\"BHK\"):\n",
    "            stats = BHK_stats.get(BHK-1)\n",
    "            if stats and stats[\"count\"]>5:\n",
    "                exclude_indices = np.append(exclude_indices, BHK_df[BHK_df.Price_Per_Sqft<(stats[\"mean\"])].index.values)\n",
    "                \n",
    "                \n",
    "    return df.drop(exclude_indices,axis = \"index\") \n",
    "\n",
    "df7 = remove_BHK_outliers(df6)\n",
    "df7.shape"
   ]
  },
  {
   "cell_type": "code",
   "execution_count": 271,
   "id": "440cf2d0",
   "metadata": {},
   "outputs": [
    {
     "data": {
      "image/png": "[encoded data removed]",
      "text/plain": [
       "<Figure size 1080x720 with 1 Axes>"
      ]
     },
     "metadata": {
      "needs_background": "light"
     },
     "output_type": "display_data"
    }
   ],
   "source": [
    "plot_scatter_chart(df7,\"other\")"
   ]
  },
  {
   "cell_type": "code",
   "execution_count": 272,
   "id": "ac793fca",
   "metadata": {
    "scrolled": true
   },
   "outputs": [
    {
     "data": {
      "text/plain": [
       "Text(0, 0.5, 'Count')"
      ]
     },
     "execution_count": 272,
     "metadata": {},
     "output_type": "execute_result"
    },
    {
     "data": {
      "image/png": "[encoded data removed]",
      "text/plain": [
       "<Figure size 1440x720 with 1 Axes>"
      ]
     },
     "metadata": {
      "needs_background": "light"
     },
     "output_type": "display_data"
    }
   ],
   "source": [
    "import matplotlib\n",
    "matplotlib.rcParams[\"figure.figsize\"] = (20,10)\n",
    "plt.hist(df7.Price_Per_Sqft, rwidth = 0.8)\n",
    "plt.xlabel(\"Price Per Square Feet\")\n",
    "plt.ylabel(\"Count\")"
   ]
  },
  {
   "cell_type": "code",
   "execution_count": 273,
   "id": "b34f9107",
   "metadata": {},
   "outputs": [
    {
     "data": {
      "text/plain": [
       "array([3, 4, 2, 1, 5, 6], dtype=int64)"
      ]
     },
     "execution_count": 273,
     "metadata": {},
     "output_type": "execute_result"
    }
   ],
   "source": [
    "df7.BHK.unique()"
   ]
  },
  {
   "cell_type": "code",
   "execution_count": 274,
   "id": "1833bbef",
   "metadata": {},
   "outputs": [
    {
     "data": {
      "text/html": [
       "<div>\n",
       "<style scoped>\n",
       "    .dataframe tbody tr th:only-of-type {\n",
       "        vertical-align: middle;\n",
       "    }\n",
       "\n",
       "    .dataframe tbody tr th {\n",
       "        vertical-align: top;\n",
       "    }\n",
       "\n",
       "    .dataframe thead th {\n",
       "        text-align: right;\n",
       "    }\n",
       "</style>\n",
       "<table border=\"1\" class=\"dataframe\">\n",
       "  <thead>\n",
       "    <tr style=\"text-align: right;\">\n",
       "      <th></th>\n",
       "      <th>BHK</th>\n",
       "      <th>Furnishing</th>\n",
       "      <th>Locality</th>\n",
       "      <th>Parking</th>\n",
       "      <th>Price</th>\n",
       "      <th>Status</th>\n",
       "      <th>Transaction</th>\n",
       "      <th>Per_Sqft</th>\n",
       "      <th>Price_Per_Sqft</th>\n",
       "    </tr>\n",
       "  </thead>\n",
       "  <tbody>\n",
       "    <tr>\n",
       "      <th>1</th>\n",
       "      <td>4</td>\n",
       "      <td>Semi-Furnished</td>\n",
       "      <td>Chittaranjan Park</td>\n",
       "      <td>3.0</td>\n",
       "      <td>62500000</td>\n",
       "      <td>Ready_to_move</td>\n",
       "      <td>New_Property</td>\n",
       "      <td>20938.0</td>\n",
       "      <td>29850.033432</td>\n",
       "    </tr>\n",
       "    <tr>\n",
       "      <th>15</th>\n",
       "      <td>4</td>\n",
       "      <td>Unfurnished</td>\n",
       "      <td>Chittaranjan Park</td>\n",
       "      <td>3.0</td>\n",
       "      <td>55000000</td>\n",
       "      <td>Ready_to_move</td>\n",
       "      <td>New_Property</td>\n",
       "      <td>12916.0</td>\n",
       "      <td>42582.842985</td>\n",
       "    </tr>\n",
       "    <tr>\n",
       "      <th>25</th>\n",
       "      <td>4</td>\n",
       "      <td>Semi-Furnished</td>\n",
       "      <td>J R Designers Floors, Rohini Sector 24</td>\n",
       "      <td>1.0</td>\n",
       "      <td>13000000</td>\n",
       "      <td>Ready_to_move</td>\n",
       "      <td>New_Property</td>\n",
       "      <td>8125.0</td>\n",
       "      <td>16000.000000</td>\n",
       "    </tr>\n",
       "    <tr>\n",
       "      <th>46</th>\n",
       "      <td>4</td>\n",
       "      <td>Semi-Furnished</td>\n",
       "      <td>Kailash Colony, Greater Kailash</td>\n",
       "      <td>2.0</td>\n",
       "      <td>47500000</td>\n",
       "      <td>Ready_to_move</td>\n",
       "      <td>New_Property</td>\n",
       "      <td>20000.0</td>\n",
       "      <td>23750.000000</td>\n",
       "    </tr>\n",
       "    <tr>\n",
       "      <th>47</th>\n",
       "      <td>4</td>\n",
       "      <td>Semi-Furnished</td>\n",
       "      <td>Kailash Colony, Greater Kailash</td>\n",
       "      <td>1.0</td>\n",
       "      <td>40000000</td>\n",
       "      <td>Ready_to_move</td>\n",
       "      <td>New_Property</td>\n",
       "      <td>20000.0</td>\n",
       "      <td>20000.000000</td>\n",
       "    </tr>\n",
       "    <tr>\n",
       "      <th>...</th>\n",
       "      <td>...</td>\n",
       "      <td>...</td>\n",
       "      <td>...</td>\n",
       "      <td>...</td>\n",
       "      <td>...</td>\n",
       "      <td>...</td>\n",
       "      <td>...</td>\n",
       "      <td>...</td>\n",
       "      <td>...</td>\n",
       "    </tr>\n",
       "    <tr>\n",
       "      <th>870</th>\n",
       "      <td>4</td>\n",
       "      <td>Semi-Furnished</td>\n",
       "      <td>other</td>\n",
       "      <td>3.0</td>\n",
       "      <td>70000000</td>\n",
       "      <td>Ready_to_move</td>\n",
       "      <td>New_Property</td>\n",
       "      <td>25000.0</td>\n",
       "      <td>28000.000000</td>\n",
       "    </tr>\n",
       "    <tr>\n",
       "      <th>872</th>\n",
       "      <td>4</td>\n",
       "      <td>Unfurnished</td>\n",
       "      <td>other</td>\n",
       "      <td>1.0</td>\n",
       "      <td>65000000</td>\n",
       "      <td>Ready_to_move</td>\n",
       "      <td>Resale</td>\n",
       "      <td>25000.0</td>\n",
       "      <td>26000.000000</td>\n",
       "    </tr>\n",
       "    <tr>\n",
       "      <th>874</th>\n",
       "      <td>4</td>\n",
       "      <td>Semi-Furnished</td>\n",
       "      <td>other</td>\n",
       "      <td>1.0</td>\n",
       "      <td>56000000</td>\n",
       "      <td>Ready_to_move</td>\n",
       "      <td>New_Property</td>\n",
       "      <td>17677.0</td>\n",
       "      <td>31679.583640</td>\n",
       "    </tr>\n",
       "    <tr>\n",
       "      <th>876</th>\n",
       "      <td>4</td>\n",
       "      <td>Semi-Furnished</td>\n",
       "      <td>other</td>\n",
       "      <td>2.0</td>\n",
       "      <td>100000000</td>\n",
       "      <td>Ready_to_move</td>\n",
       "      <td>New_Property</td>\n",
       "      <td>37037.0</td>\n",
       "      <td>27000.027000</td>\n",
       "    </tr>\n",
       "    <tr>\n",
       "      <th>879</th>\n",
       "      <td>4</td>\n",
       "      <td>Furnished</td>\n",
       "      <td>other</td>\n",
       "      <td>5.0</td>\n",
       "      <td>30000000</td>\n",
       "      <td>Ready_to_move</td>\n",
       "      <td>Resale</td>\n",
       "      <td>18333.0</td>\n",
       "      <td>16363.933890</td>\n",
       "    </tr>\n",
       "  </tbody>\n",
       "</table>\n",
       "<p>111 rows × 9 columns</p>\n",
       "</div>"
      ],
      "text/plain": [
       "     BHK      Furnishing                                Locality  Parking  \\\n",
       "1      4  Semi-Furnished                       Chittaranjan Park      3.0   \n",
       "15     4     Unfurnished                       Chittaranjan Park      3.0   \n",
       "25     4  Semi-Furnished  J R Designers Floors, Rohini Sector 24      1.0   \n",
       "46     4  Semi-Furnished         Kailash Colony, Greater Kailash      2.0   \n",
       "47     4  Semi-Furnished         Kailash Colony, Greater Kailash      1.0   \n",
       "..   ...             ...                                     ...      ...   \n",
       "870    4  Semi-Furnished                                   other      3.0   \n",
       "872    4     Unfurnished                                   other      1.0   \n",
       "874    4  Semi-Furnished                                   other      1.0   \n",
       "876    4  Semi-Furnished                                   other      2.0   \n",
       "879    4       Furnished                                   other      5.0   \n",
       "\n",
       "         Price         Status   Transaction  Per_Sqft  Price_Per_Sqft  \n",
       "1     62500000  Ready_to_move  New_Property   20938.0    29850.033432  \n",
       "15    55000000  Ready_to_move  New_Property   12916.0    42582.842985  \n",
       "25    13000000  Ready_to_move  New_Property    8125.0    16000.000000  \n",
       "46    47500000  Ready_to_move  New_Property   20000.0    23750.000000  \n",
       "47    40000000  Ready_to_move  New_Property   20000.0    20000.000000  \n",
       "..         ...            ...           ...       ...             ...  \n",
       "870   70000000  Ready_to_move  New_Property   25000.0    28000.000000  \n",
       "872   65000000  Ready_to_move        Resale   25000.0    26000.000000  \n",
       "874   56000000  Ready_to_move  New_Property   17677.0    31679.583640  \n",
       "876  100000000  Ready_to_move  New_Property   37037.0    27000.027000  \n",
       "879   30000000  Ready_to_move        Resale   18333.0    16363.933890  \n",
       "\n",
       "[111 rows x 9 columns]"
      ]
     },
     "execution_count": 274,
     "metadata": {},
     "output_type": "execute_result"
    }
   ],
   "source": [
    "df7[df7.BHK>3]"
   ]
  },
  {
   "cell_type": "code",
   "execution_count": 275,
   "id": "d7fe66fa",
   "metadata": {},
   "outputs": [
    {
     "data": {
      "text/plain": [
       "Text(0, 0.5, 'Count')"
      ]
     },
     "execution_count": 275,
     "metadata": {},
     "output_type": "execute_result"
    },
    {
     "data": {
      "image/png": "[encoded data removed]",
      "text/plain": [
       "<Figure size 1440x720 with 1 Axes>"
      ]
     },
     "metadata": {
      "needs_background": "light"
     },
     "output_type": "display_data"
    }
   ],
   "source": [
    "plt.hist(df7.BHK,rwidth=0.8)\n",
    "plt.xlabel(\"Number of BHKS\")\n",
    "plt.ylabel(\"Count\")"
   ]
  },
  {
   "cell_type": "code",
   "execution_count": 276,
   "id": "bf434e41",
   "metadata": {},
   "outputs": [
    {
     "data": {
      "text/html": [
       "<div>\n",
       "<style scoped>\n",
       "    .dataframe tbody tr th:only-of-type {\n",
       "        vertical-align: middle;\n",
       "    }\n",
       "\n",
       "    .dataframe tbody tr th {\n",
       "        vertical-align: top;\n",
       "    }\n",
       "\n",
       "    .dataframe thead th {\n",
       "        text-align: right;\n",
       "    }\n",
       "</style>\n",
       "<table border=\"1\" class=\"dataframe\">\n",
       "  <thead>\n",
       "    <tr style=\"text-align: right;\">\n",
       "      <th></th>\n",
       "      <th>BHK</th>\n",
       "      <th>Furnishing</th>\n",
       "      <th>Locality</th>\n",
       "      <th>Parking</th>\n",
       "      <th>Price</th>\n",
       "      <th>Status</th>\n",
       "      <th>Transaction</th>\n",
       "      <th>Per_Sqft</th>\n",
       "      <th>Price_Per_Sqft</th>\n",
       "    </tr>\n",
       "  </thead>\n",
       "  <tbody>\n",
       "    <tr>\n",
       "      <th>0</th>\n",
       "      <td>3</td>\n",
       "      <td>Semi-Furnished</td>\n",
       "      <td>Chittaranjan Park</td>\n",
       "      <td>2.0</td>\n",
       "      <td>33500000</td>\n",
       "      <td>Ready_to_move</td>\n",
       "      <td>New_Property</td>\n",
       "      <td>20938.0</td>\n",
       "      <td>15999.617920</td>\n",
       "    </tr>\n",
       "    <tr>\n",
       "      <th>1</th>\n",
       "      <td>4</td>\n",
       "      <td>Semi-Furnished</td>\n",
       "      <td>Chittaranjan Park</td>\n",
       "      <td>3.0</td>\n",
       "      <td>62500000</td>\n",
       "      <td>Ready_to_move</td>\n",
       "      <td>New_Property</td>\n",
       "      <td>20938.0</td>\n",
       "      <td>29850.033432</td>\n",
       "    </tr>\n",
       "    <tr>\n",
       "      <th>2</th>\n",
       "      <td>3</td>\n",
       "      <td>Semi-Furnished</td>\n",
       "      <td>Chittaranjan Park</td>\n",
       "      <td>2.0</td>\n",
       "      <td>47500000</td>\n",
       "      <td>Ready_to_move</td>\n",
       "      <td>New_Property</td>\n",
       "      <td>20938.0</td>\n",
       "      <td>22686.025408</td>\n",
       "    </tr>\n",
       "    <tr>\n",
       "      <th>3</th>\n",
       "      <td>3</td>\n",
       "      <td>Semi-Furnished</td>\n",
       "      <td>Chittaranjan Park</td>\n",
       "      <td>1.0</td>\n",
       "      <td>14700000</td>\n",
       "      <td>Ready_to_move</td>\n",
       "      <td>Resale</td>\n",
       "      <td>20938.0</td>\n",
       "      <td>7020.727863</td>\n",
       "    </tr>\n",
       "    <tr>\n",
       "      <th>4</th>\n",
       "      <td>2</td>\n",
       "      <td>Semi-Furnished</td>\n",
       "      <td>Chittaranjan Park</td>\n",
       "      <td>1.0</td>\n",
       "      <td>18000000</td>\n",
       "      <td>Ready_to_move</td>\n",
       "      <td>New_Property</td>\n",
       "      <td>20938.0</td>\n",
       "      <td>8596.809628</td>\n",
       "    </tr>\n",
       "    <tr>\n",
       "      <th>5</th>\n",
       "      <td>3</td>\n",
       "      <td>Semi-Furnished</td>\n",
       "      <td>Chittaranjan Park</td>\n",
       "      <td>1.0</td>\n",
       "      <td>22500000</td>\n",
       "      <td>Ready_to_move</td>\n",
       "      <td>New_Property</td>\n",
       "      <td>20938.0</td>\n",
       "      <td>10746.012036</td>\n",
       "    </tr>\n",
       "    <tr>\n",
       "      <th>6</th>\n",
       "      <td>3</td>\n",
       "      <td>Unfurnished</td>\n",
       "      <td>Chittaranjan Park</td>\n",
       "      <td>1.0</td>\n",
       "      <td>22000000</td>\n",
       "      <td>Ready_to_move</td>\n",
       "      <td>New_Property</td>\n",
       "      <td>18333.0</td>\n",
       "      <td>12000.218186</td>\n",
       "    </tr>\n",
       "    <tr>\n",
       "      <th>7</th>\n",
       "      <td>3</td>\n",
       "      <td>Semi-Furnished</td>\n",
       "      <td>Chittaranjan Park</td>\n",
       "      <td>1.0</td>\n",
       "      <td>22500000</td>\n",
       "      <td>Ready_to_move</td>\n",
       "      <td>Resale</td>\n",
       "      <td>18333.0</td>\n",
       "      <td>12272.950417</td>\n",
       "    </tr>\n",
       "    <tr>\n",
       "      <th>8</th>\n",
       "      <td>2</td>\n",
       "      <td>Unfurnished</td>\n",
       "      <td>Chittaranjan Park</td>\n",
       "      <td>5.0</td>\n",
       "      <td>6500000</td>\n",
       "      <td>Ready_to_move</td>\n",
       "      <td>Resale</td>\n",
       "      <td>6878.0</td>\n",
       "      <td>9450.421634</td>\n",
       "    </tr>\n",
       "    <tr>\n",
       "      <th>9</th>\n",
       "      <td>3</td>\n",
       "      <td>Semi-Furnished</td>\n",
       "      <td>Chittaranjan Park</td>\n",
       "      <td>2.0</td>\n",
       "      <td>11500000</td>\n",
       "      <td>Ready_to_move</td>\n",
       "      <td>New_Property</td>\n",
       "      <td>6878.0</td>\n",
       "      <td>16719.976737</td>\n",
       "    </tr>\n",
       "  </tbody>\n",
       "</table>\n",
       "</div>"
      ],
      "text/plain": [
       "   BHK      Furnishing           Locality  Parking     Price         Status  \\\n",
       "0    3  Semi-Furnished  Chittaranjan Park      2.0  33500000  Ready_to_move   \n",
       "1    4  Semi-Furnished  Chittaranjan Park      3.0  62500000  Ready_to_move   \n",
       "2    3  Semi-Furnished  Chittaranjan Park      2.0  47500000  Ready_to_move   \n",
       "3    3  Semi-Furnished  Chittaranjan Park      1.0  14700000  Ready_to_move   \n",
       "4    2  Semi-Furnished  Chittaranjan Park      1.0  18000000  Ready_to_move   \n",
       "5    3  Semi-Furnished  Chittaranjan Park      1.0  22500000  Ready_to_move   \n",
       "6    3     Unfurnished  Chittaranjan Park      1.0  22000000  Ready_to_move   \n",
       "7    3  Semi-Furnished  Chittaranjan Park      1.0  22500000  Ready_to_move   \n",
       "8    2     Unfurnished  Chittaranjan Park      5.0   6500000  Ready_to_move   \n",
       "9    3  Semi-Furnished  Chittaranjan Park      2.0  11500000  Ready_to_move   \n",
       "\n",
       "    Transaction  Per_Sqft  Price_Per_Sqft  \n",
       "0  New_Property   20938.0    15999.617920  \n",
       "1  New_Property   20938.0    29850.033432  \n",
       "2  New_Property   20938.0    22686.025408  \n",
       "3        Resale   20938.0     7020.727863  \n",
       "4  New_Property   20938.0     8596.809628  \n",
       "5  New_Property   20938.0    10746.012036  \n",
       "6  New_Property   18333.0    12000.218186  \n",
       "7        Resale   18333.0    12272.950417  \n",
       "8        Resale    6878.0     9450.421634  \n",
       "9  New_Property    6878.0    16719.976737  "
      ]
     },
     "execution_count": 276,
     "metadata": {},
     "output_type": "execute_result"
    }
   ],
   "source": [
    "df7.head(10)"
   ]
  },
  {
   "cell_type": "code",
   "execution_count": 277,
   "id": "50c5258e",
   "metadata": {},
   "outputs": [
    {
     "data": {
      "text/html": [
       "<div>\n",
       "<style scoped>\n",
       "    .dataframe tbody tr th:only-of-type {\n",
       "        vertical-align: middle;\n",
       "    }\n",
       "\n",
       "    .dataframe tbody tr th {\n",
       "        vertical-align: top;\n",
       "    }\n",
       "\n",
       "    .dataframe thead th {\n",
       "        text-align: right;\n",
       "    }\n",
       "</style>\n",
       "<table border=\"1\" class=\"dataframe\">\n",
       "  <thead>\n",
       "    <tr style=\"text-align: right;\">\n",
       "      <th></th>\n",
       "      <th>BHK</th>\n",
       "      <th>Locality</th>\n",
       "      <th>Parking</th>\n",
       "      <th>Price</th>\n",
       "      <th>Per_Sqft</th>\n",
       "      <th>Price_Per_Sqft</th>\n",
       "    </tr>\n",
       "  </thead>\n",
       "  <tbody>\n",
       "    <tr>\n",
       "      <th>0</th>\n",
       "      <td>3</td>\n",
       "      <td>Chittaranjan Park</td>\n",
       "      <td>2.0</td>\n",
       "      <td>33500000</td>\n",
       "      <td>20938.0</td>\n",
       "      <td>15999.617920</td>\n",
       "    </tr>\n",
       "    <tr>\n",
       "      <th>1</th>\n",
       "      <td>4</td>\n",
       "      <td>Chittaranjan Park</td>\n",
       "      <td>3.0</td>\n",
       "      <td>62500000</td>\n",
       "      <td>20938.0</td>\n",
       "      <td>29850.033432</td>\n",
       "    </tr>\n",
       "    <tr>\n",
       "      <th>2</th>\n",
       "      <td>3</td>\n",
       "      <td>Chittaranjan Park</td>\n",
       "      <td>2.0</td>\n",
       "      <td>47500000</td>\n",
       "      <td>20938.0</td>\n",
       "      <td>22686.025408</td>\n",
       "    </tr>\n",
       "    <tr>\n",
       "      <th>3</th>\n",
       "      <td>3</td>\n",
       "      <td>Chittaranjan Park</td>\n",
       "      <td>1.0</td>\n",
       "      <td>14700000</td>\n",
       "      <td>20938.0</td>\n",
       "      <td>7020.727863</td>\n",
       "    </tr>\n",
       "    <tr>\n",
       "      <th>4</th>\n",
       "      <td>2</td>\n",
       "      <td>Chittaranjan Park</td>\n",
       "      <td>1.0</td>\n",
       "      <td>18000000</td>\n",
       "      <td>20938.0</td>\n",
       "      <td>8596.809628</td>\n",
       "    </tr>\n",
       "  </tbody>\n",
       "</table>\n",
       "</div>"
      ],
      "text/plain": [
       "   BHK           Locality  Parking     Price  Per_Sqft  Price_Per_Sqft\n",
       "0    3  Chittaranjan Park      2.0  33500000   20938.0    15999.617920\n",
       "1    4  Chittaranjan Park      3.0  62500000   20938.0    29850.033432\n",
       "2    3  Chittaranjan Park      2.0  47500000   20938.0    22686.025408\n",
       "3    3  Chittaranjan Park      1.0  14700000   20938.0     7020.727863\n",
       "4    2  Chittaranjan Park      1.0  18000000   20938.0     8596.809628"
      ]
     },
     "execution_count": 277,
     "metadata": {},
     "output_type": "execute_result"
    }
   ],
   "source": [
    "df8 = df7.drop([\"Furnishing\",\"Status\",\"Transaction\"],axis=\"columns\")\n",
    "df8.head(5)"
   ]
  },
  {
   "cell_type": "code",
   "execution_count": 278,
   "id": "6e45eba8",
   "metadata": {},
   "outputs": [
    {
     "data": {
      "text/html": [
       "<div>\n",
       "<style scoped>\n",
       "    .dataframe tbody tr th:only-of-type {\n",
       "        vertical-align: middle;\n",
       "    }\n",
       "\n",
       "    .dataframe tbody tr th {\n",
       "        vertical-align: top;\n",
       "    }\n",
       "\n",
       "    .dataframe thead th {\n",
       "        text-align: right;\n",
       "    }\n",
       "</style>\n",
       "<table border=\"1\" class=\"dataframe\">\n",
       "  <thead>\n",
       "    <tr style=\"text-align: right;\">\n",
       "      <th></th>\n",
       "      <th>Chittaranjan Park</th>\n",
       "      <th>J R Designers Floors, Rohini Sector 24</th>\n",
       "      <th>Kailash Colony, Greater Kailash</th>\n",
       "      <th>Lajpat Nagar 2</th>\n",
       "      <th>Laxmi Nagar</th>\n",
       "      <th>Mehrauli</th>\n",
       "      <th>Saket</th>\n",
       "      <th>Yamuna Vihar, Shahdara</th>\n",
       "      <th>other</th>\n",
       "    </tr>\n",
       "  </thead>\n",
       "  <tbody>\n",
       "    <tr>\n",
       "      <th>0</th>\n",
       "      <td>1</td>\n",
       "      <td>0</td>\n",
       "      <td>0</td>\n",
       "      <td>0</td>\n",
       "      <td>0</td>\n",
       "      <td>0</td>\n",
       "      <td>0</td>\n",
       "      <td>0</td>\n",
       "      <td>0</td>\n",
       "    </tr>\n",
       "    <tr>\n",
       "      <th>1</th>\n",
       "      <td>1</td>\n",
       "      <td>0</td>\n",
       "      <td>0</td>\n",
       "      <td>0</td>\n",
       "      <td>0</td>\n",
       "      <td>0</td>\n",
       "      <td>0</td>\n",
       "      <td>0</td>\n",
       "      <td>0</td>\n",
       "    </tr>\n",
       "    <tr>\n",
       "      <th>2</th>\n",
       "      <td>1</td>\n",
       "      <td>0</td>\n",
       "      <td>0</td>\n",
       "      <td>0</td>\n",
       "      <td>0</td>\n",
       "      <td>0</td>\n",
       "      <td>0</td>\n",
       "      <td>0</td>\n",
       "      <td>0</td>\n",
       "    </tr>\n",
       "  </tbody>\n",
       "</table>\n",
       "</div>"
      ],
      "text/plain": [
       "   Chittaranjan Park  J R Designers Floors, Rohini Sector 24  \\\n",
       "0                  1                                       0   \n",
       "1                  1                                       0   \n",
       "2                  1                                       0   \n",
       "\n",
       "   Kailash Colony, Greater Kailash  Lajpat Nagar 2  Laxmi Nagar  Mehrauli  \\\n",
       "0                                0               0            0         0   \n",
       "1                                0               0            0         0   \n",
       "2                                0               0            0         0   \n",
       "\n",
       "   Saket  Yamuna Vihar, Shahdara  other  \n",
       "0      0                       0      0  \n",
       "1      0                       0      0  \n",
       "2      0                       0      0  "
      ]
     },
     "execution_count": 278,
     "metadata": {},
     "output_type": "execute_result"
    }
   ],
   "source": [
    "dummies = pd.get_dummies(df8.Locality)\n",
    "dummies.head(3)"
   ]
  },
  {
   "cell_type": "code",
   "execution_count": 279,
   "id": "f98d365b",
   "metadata": {},
   "outputs": [
    {
     "data": {
      "text/html": [
       "<div>\n",
       "<style scoped>\n",
       "    .dataframe tbody tr th:only-of-type {\n",
       "        vertical-align: middle;\n",
       "    }\n",
       "\n",
       "    .dataframe tbody tr th {\n",
       "        vertical-align: top;\n",
       "    }\n",
       "\n",
       "    .dataframe thead th {\n",
       "        text-align: right;\n",
       "    }\n",
       "</style>\n",
       "<table border=\"1\" class=\"dataframe\">\n",
       "  <thead>\n",
       "    <tr style=\"text-align: right;\">\n",
       "      <th></th>\n",
       "      <th>BHK</th>\n",
       "      <th>Locality</th>\n",
       "      <th>Parking</th>\n",
       "      <th>Price</th>\n",
       "      <th>Per_Sqft</th>\n",
       "      <th>Price_Per_Sqft</th>\n",
       "      <th>Chittaranjan Park</th>\n",
       "      <th>J R Designers Floors, Rohini Sector 24</th>\n",
       "      <th>Kailash Colony, Greater Kailash</th>\n",
       "      <th>Lajpat Nagar 2</th>\n",
       "      <th>Laxmi Nagar</th>\n",
       "      <th>Mehrauli</th>\n",
       "      <th>Saket</th>\n",
       "      <th>Yamuna Vihar, Shahdara</th>\n",
       "    </tr>\n",
       "  </thead>\n",
       "  <tbody>\n",
       "    <tr>\n",
       "      <th>0</th>\n",
       "      <td>3</td>\n",
       "      <td>Chittaranjan Park</td>\n",
       "      <td>2.0</td>\n",
       "      <td>33500000</td>\n",
       "      <td>20938.0</td>\n",
       "      <td>15999.617920</td>\n",
       "      <td>1</td>\n",
       "      <td>0</td>\n",
       "      <td>0</td>\n",
       "      <td>0</td>\n",
       "      <td>0</td>\n",
       "      <td>0</td>\n",
       "      <td>0</td>\n",
       "      <td>0</td>\n",
       "    </tr>\n",
       "    <tr>\n",
       "      <th>1</th>\n",
       "      <td>4</td>\n",
       "      <td>Chittaranjan Park</td>\n",
       "      <td>3.0</td>\n",
       "      <td>62500000</td>\n",
       "      <td>20938.0</td>\n",
       "      <td>29850.033432</td>\n",
       "      <td>1</td>\n",
       "      <td>0</td>\n",
       "      <td>0</td>\n",
       "      <td>0</td>\n",
       "      <td>0</td>\n",
       "      <td>0</td>\n",
       "      <td>0</td>\n",
       "      <td>0</td>\n",
       "    </tr>\n",
       "    <tr>\n",
       "      <th>2</th>\n",
       "      <td>3</td>\n",
       "      <td>Chittaranjan Park</td>\n",
       "      <td>2.0</td>\n",
       "      <td>47500000</td>\n",
       "      <td>20938.0</td>\n",
       "      <td>22686.025408</td>\n",
       "      <td>1</td>\n",
       "      <td>0</td>\n",
       "      <td>0</td>\n",
       "      <td>0</td>\n",
       "      <td>0</td>\n",
       "      <td>0</td>\n",
       "      <td>0</td>\n",
       "      <td>0</td>\n",
       "    </tr>\n",
       "  </tbody>\n",
       "</table>\n",
       "</div>"
      ],
      "text/plain": [
       "   BHK           Locality  Parking     Price  Per_Sqft  Price_Per_Sqft  \\\n",
       "0    3  Chittaranjan Park      2.0  33500000   20938.0    15999.617920   \n",
       "1    4  Chittaranjan Park      3.0  62500000   20938.0    29850.033432   \n",
       "2    3  Chittaranjan Park      2.0  47500000   20938.0    22686.025408   \n",
       "\n",
       "   Chittaranjan Park  J R Designers Floors, Rohini Sector 24  \\\n",
       "0                  1                                       0   \n",
       "1                  1                                       0   \n",
       "2                  1                                       0   \n",
       "\n",
       "   Kailash Colony, Greater Kailash  Lajpat Nagar 2  Laxmi Nagar  Mehrauli  \\\n",
       "0                                0               0            0         0   \n",
       "1                                0               0            0         0   \n",
       "2                                0               0            0         0   \n",
       "\n",
       "   Saket  Yamuna Vihar, Shahdara  \n",
       "0      0                       0  \n",
       "1      0                       0  \n",
       "2      0                       0  "
      ]
     },
     "execution_count": 279,
     "metadata": {},
     "output_type": "execute_result"
    }
   ],
   "source": [
    "df9 = pd.concat([df8,dummies.drop(\"other\",axis=\"columns\")],axis=\"columns\")\n",
    "df9.head(3)"
   ]
  },
  {
   "cell_type": "code",
   "execution_count": 280,
   "id": "a81d32e3",
   "metadata": {},
   "outputs": [
    {
     "data": {
      "text/html": [
       "<div>\n",
       "<style scoped>\n",
       "    .dataframe tbody tr th:only-of-type {\n",
       "        vertical-align: middle;\n",
       "    }\n",
       "\n",
       "    .dataframe tbody tr th {\n",
       "        vertical-align: top;\n",
       "    }\n",
       "\n",
       "    .dataframe thead th {\n",
       "        text-align: right;\n",
       "    }\n",
       "</style>\n",
       "<table border=\"1\" class=\"dataframe\">\n",
       "  <thead>\n",
       "    <tr style=\"text-align: right;\">\n",
       "      <th></th>\n",
       "      <th>BHK</th>\n",
       "      <th>Parking</th>\n",
       "      <th>Price</th>\n",
       "      <th>Per_Sqft</th>\n",
       "      <th>Price_Per_Sqft</th>\n",
       "      <th>Chittaranjan Park</th>\n",
       "      <th>J R Designers Floors, Rohini Sector 24</th>\n",
       "      <th>Kailash Colony, Greater Kailash</th>\n",
       "      <th>Lajpat Nagar 2</th>\n",
       "      <th>Laxmi Nagar</th>\n",
       "      <th>Mehrauli</th>\n",
       "      <th>Saket</th>\n",
       "      <th>Yamuna Vihar, Shahdara</th>\n",
       "    </tr>\n",
       "  </thead>\n",
       "  <tbody>\n",
       "    <tr>\n",
       "      <th>0</th>\n",
       "      <td>3</td>\n",
       "      <td>2.0</td>\n",
       "      <td>33500000</td>\n",
       "      <td>20938.0</td>\n",
       "      <td>15999.617920</td>\n",
       "      <td>1</td>\n",
       "      <td>0</td>\n",
       "      <td>0</td>\n",
       "      <td>0</td>\n",
       "      <td>0</td>\n",
       "      <td>0</td>\n",
       "      <td>0</td>\n",
       "      <td>0</td>\n",
       "    </tr>\n",
       "    <tr>\n",
       "      <th>1</th>\n",
       "      <td>4</td>\n",
       "      <td>3.0</td>\n",
       "      <td>62500000</td>\n",
       "      <td>20938.0</td>\n",
       "      <td>29850.033432</td>\n",
       "      <td>1</td>\n",
       "      <td>0</td>\n",
       "      <td>0</td>\n",
       "      <td>0</td>\n",
       "      <td>0</td>\n",
       "      <td>0</td>\n",
       "      <td>0</td>\n",
       "      <td>0</td>\n",
       "    </tr>\n",
       "  </tbody>\n",
       "</table>\n",
       "</div>"
      ],
      "text/plain": [
       "   BHK  Parking     Price  Per_Sqft  Price_Per_Sqft  Chittaranjan Park  \\\n",
       "0    3      2.0  33500000   20938.0    15999.617920                  1   \n",
       "1    4      3.0  62500000   20938.0    29850.033432                  1   \n",
       "\n",
       "   J R Designers Floors, Rohini Sector 24  Kailash Colony, Greater Kailash  \\\n",
       "0                                       0                                0   \n",
       "1                                       0                                0   \n",
       "\n",
       "   Lajpat Nagar 2  Laxmi Nagar  Mehrauli  Saket  Yamuna Vihar, Shahdara  \n",
       "0               0            0         0      0                       0  \n",
       "1               0            0         0      0                       0  "
      ]
     },
     "execution_count": 280,
     "metadata": {},
     "output_type": "execute_result"
    }
   ],
   "source": [
    "df10 = df9.drop(\"Locality\",axis=\"columns\")\n",
    "df10.head(2)"
   ]
  },
  {
   "cell_type": "code",
   "execution_count": 281,
   "id": "fc78de68",
   "metadata": {},
   "outputs": [
    {
     "data": {
      "text/plain": [
       "(748, 13)"
      ]
     },
     "execution_count": 281,
     "metadata": {},
     "output_type": "execute_result"
    }
   ],
   "source": [
    "df10.shape"
   ]
  },
  {
   "cell_type": "code",
   "execution_count": 282,
   "id": "c24bdfcc",
   "metadata": {},
   "outputs": [
    {
     "data": {
      "text/html": [
       "<div>\n",
       "<style scoped>\n",
       "    .dataframe tbody tr th:only-of-type {\n",
       "        vertical-align: middle;\n",
       "    }\n",
       "\n",
       "    .dataframe tbody tr th {\n",
       "        vertical-align: top;\n",
       "    }\n",
       "\n",
       "    .dataframe thead th {\n",
       "        text-align: right;\n",
       "    }\n",
       "</style>\n",
       "<table border=\"1\" class=\"dataframe\">\n",
       "  <thead>\n",
       "    <tr style=\"text-align: right;\">\n",
       "      <th></th>\n",
       "      <th>BHK</th>\n",
       "      <th>Parking</th>\n",
       "      <th>Per_Sqft</th>\n",
       "      <th>Price_Per_Sqft</th>\n",
       "      <th>Chittaranjan Park</th>\n",
       "      <th>J R Designers Floors, Rohini Sector 24</th>\n",
       "      <th>Kailash Colony, Greater Kailash</th>\n",
       "      <th>Lajpat Nagar 2</th>\n",
       "      <th>Laxmi Nagar</th>\n",
       "      <th>Mehrauli</th>\n",
       "      <th>Saket</th>\n",
       "      <th>Yamuna Vihar, Shahdara</th>\n",
       "    </tr>\n",
       "  </thead>\n",
       "  <tbody>\n",
       "    <tr>\n",
       "      <th>0</th>\n",
       "      <td>3</td>\n",
       "      <td>2.0</td>\n",
       "      <td>20938.0</td>\n",
       "      <td>15999.617920</td>\n",
       "      <td>1</td>\n",
       "      <td>0</td>\n",
       "      <td>0</td>\n",
       "      <td>0</td>\n",
       "      <td>0</td>\n",
       "      <td>0</td>\n",
       "      <td>0</td>\n",
       "      <td>0</td>\n",
       "    </tr>\n",
       "    <tr>\n",
       "      <th>1</th>\n",
       "      <td>4</td>\n",
       "      <td>3.0</td>\n",
       "      <td>20938.0</td>\n",
       "      <td>29850.033432</td>\n",
       "      <td>1</td>\n",
       "      <td>0</td>\n",
       "      <td>0</td>\n",
       "      <td>0</td>\n",
       "      <td>0</td>\n",
       "      <td>0</td>\n",
       "      <td>0</td>\n",
       "      <td>0</td>\n",
       "    </tr>\n",
       "    <tr>\n",
       "      <th>2</th>\n",
       "      <td>3</td>\n",
       "      <td>2.0</td>\n",
       "      <td>20938.0</td>\n",
       "      <td>22686.025408</td>\n",
       "      <td>1</td>\n",
       "      <td>0</td>\n",
       "      <td>0</td>\n",
       "      <td>0</td>\n",
       "      <td>0</td>\n",
       "      <td>0</td>\n",
       "      <td>0</td>\n",
       "      <td>0</td>\n",
       "    </tr>\n",
       "    <tr>\n",
       "      <th>3</th>\n",
       "      <td>3</td>\n",
       "      <td>1.0</td>\n",
       "      <td>20938.0</td>\n",
       "      <td>7020.727863</td>\n",
       "      <td>1</td>\n",
       "      <td>0</td>\n",
       "      <td>0</td>\n",
       "      <td>0</td>\n",
       "      <td>0</td>\n",
       "      <td>0</td>\n",
       "      <td>0</td>\n",
       "      <td>0</td>\n",
       "    </tr>\n",
       "    <tr>\n",
       "      <th>4</th>\n",
       "      <td>2</td>\n",
       "      <td>1.0</td>\n",
       "      <td>20938.0</td>\n",
       "      <td>8596.809628</td>\n",
       "      <td>1</td>\n",
       "      <td>0</td>\n",
       "      <td>0</td>\n",
       "      <td>0</td>\n",
       "      <td>0</td>\n",
       "      <td>0</td>\n",
       "      <td>0</td>\n",
       "      <td>0</td>\n",
       "    </tr>\n",
       "  </tbody>\n",
       "</table>\n",
       "</div>"
      ],
      "text/plain": [
       "   BHK  Parking  Per_Sqft  Price_Per_Sqft  Chittaranjan Park  \\\n",
       "0    3      2.0   20938.0    15999.617920                  1   \n",
       "1    4      3.0   20938.0    29850.033432                  1   \n",
       "2    3      2.0   20938.0    22686.025408                  1   \n",
       "3    3      1.0   20938.0     7020.727863                  1   \n",
       "4    2      1.0   20938.0     8596.809628                  1   \n",
       "\n",
       "   J R Designers Floors, Rohini Sector 24  Kailash Colony, Greater Kailash  \\\n",
       "0                                       0                                0   \n",
       "1                                       0                                0   \n",
       "2                                       0                                0   \n",
       "3                                       0                                0   \n",
       "4                                       0                                0   \n",
       "\n",
       "   Lajpat Nagar 2  Laxmi Nagar  Mehrauli  Saket  Yamuna Vihar, Shahdara  \n",
       "0               0            0         0      0                       0  \n",
       "1               0            0         0      0                       0  \n",
       "2               0            0         0      0                       0  \n",
       "3               0            0         0      0                       0  \n",
       "4               0            0         0      0                       0  "
      ]
     },
     "execution_count": 282,
     "metadata": {},
     "output_type": "execute_result"
    }
   ],
   "source": [
    "X = df10.drop(\"Price\",axis=\"columns\")\n",
    "X.head()"
   ]
  },
  {
   "cell_type": "code",
   "execution_count": 283,
   "id": "2f7b4878",
   "metadata": {},
   "outputs": [
    {
     "data": {
      "text/plain": [
       "0    33500000\n",
       "1    62500000\n",
       "2    47500000\n",
       "3    14700000\n",
       "4    18000000\n",
       "Name: Price, dtype: int64"
      ]
     },
     "execution_count": 283,
     "metadata": {},
     "output_type": "execute_result"
    }
   ],
   "source": [
    "y = df10.Price\n",
    "y.head()"
   ]
  },
  {
   "cell_type": "code",
   "execution_count": 284,
   "id": "a61a5521",
   "metadata": {},
   "outputs": [],
   "source": [
    "from sklearn.model_selection import train_test_split\n",
    "x_train, x_test, y_train, y_test = train_test_split(x,y,test_size=0.2,random_state=10)"
   ]
  },
  {
   "cell_type": "code",
   "execution_count": 285,
   "id": "3fc02e14",
   "metadata": {},
   "outputs": [
    {
     "data": {
      "text/plain": [
       "0.3368374784584074"
      ]
     },
     "execution_count": 285,
     "metadata": {},
     "output_type": "execute_result"
    }
   ],
   "source": [
    "from sklearn.linear_model import LinearRegression\n",
    "lr_clf = LinearRegression()\n",
    "lr_clf.fit(x_train,y_train)\n",
    "lr_clf.score(x_test,y_test)"
   ]
  },
  {
   "cell_type": "code",
   "execution_count": 286,
   "id": "8253c0a6",
   "metadata": {},
   "outputs": [
    {
     "data": {
      "text/plain": [
       "array([0.27813624, 0.30133661, 0.84318643, 0.8511298 , 0.85198669])"
      ]
     },
     "execution_count": 286,
     "metadata": {},
     "output_type": "execute_result"
    }
   ],
   "source": [
    "from sklearn.model_selection import ShuffleSplit\n",
    "from sklearn.model_selection import cross_val_score\n",
    "\n",
    "cv = ShuffleSplit(n_splits=5, test_size=0.2, random_state=0)\n",
    "\n",
    "cross_val_score(LinearRegression(), x, y, cv=cv)"
   ]
  },
  {
   "cell_type": "code",
   "execution_count": 294,
   "id": "e571c52f",
   "metadata": {},
   "outputs": [
    {
     "data": {
      "text/html": [
       "<div>\n",
       "<style scoped>\n",
       "    .dataframe tbody tr th:only-of-type {\n",
       "        vertical-align: middle;\n",
       "    }\n",
       "\n",
       "    .dataframe tbody tr th {\n",
       "        vertical-align: top;\n",
       "    }\n",
       "\n",
       "    .dataframe thead th {\n",
       "        text-align: right;\n",
       "    }\n",
       "</style>\n",
       "<table border=\"1\" class=\"dataframe\">\n",
       "  <thead>\n",
       "    <tr style=\"text-align: right;\">\n",
       "      <th></th>\n",
       "      <th>model</th>\n",
       "      <th>best_score</th>\n",
       "      <th>best_params</th>\n",
       "    </tr>\n",
       "  </thead>\n",
       "  <tbody>\n",
       "    <tr>\n",
       "      <th>0</th>\n",
       "      <td>linear_regression</td>\n",
       "      <td>0.625155</td>\n",
       "      <td>{'normalize': False}</td>\n",
       "    </tr>\n",
       "    <tr>\n",
       "      <th>1</th>\n",
       "      <td>lasso</td>\n",
       "      <td>0.625155</td>\n",
       "      <td>{'alpha': 2, 'selection': 'random'}</td>\n",
       "    </tr>\n",
       "    <tr>\n",
       "      <th>2</th>\n",
       "      <td>decision_tree</td>\n",
       "      <td>0.975281</td>\n",
       "      <td>{'criterion': 'mse', 'splitter': 'best'}</td>\n",
       "    </tr>\n",
       "  </tbody>\n",
       "</table>\n",
       "</div>"
      ],
      "text/plain": [
       "               model  best_score                               best_params\n",
       "0  linear_regression    0.625155                      {'normalize': False}\n",
       "1              lasso    0.625155       {'alpha': 2, 'selection': 'random'}\n",
       "2      decision_tree    0.975281  {'criterion': 'mse', 'splitter': 'best'}"
      ]
     },
     "execution_count": 294,
     "metadata": {},
     "output_type": "execute_result"
    }
   ],
   "source": [
    "from sklearn.model_selection import GridSearchCV\n",
    "\n",
    "from sklearn.linear_model import Lasso\n",
    "from sklearn.tree import DecisionTreeRegressor\n",
    "\n",
    "def find_best_model_using_gridsearchcv(x,y):\n",
    "    algos = {\n",
    "        \"linear_regression\" :{\n",
    "            \"model\" : LinearRegression(),\n",
    "            \"params\" : {\n",
    "                \"normalize\" : [True, False]\n",
    "                \n",
    "            }\n",
    "        },\n",
    "        \"lasso\": {\n",
    "            'model': Lasso(),\n",
    "            \"params\": {\n",
    "                \"alpha\": [1,2],\n",
    "                \"selection\": [\"random\", \"cyclic\"]\n",
    "            }\n",
    "        },   \n",
    "        \"decision_tree\" : {\n",
    "            \"model\" : DecisionTreeRegressor(),\n",
    "            \"params\" : {\n",
    "                \"criterion\" : [\"mse\",\"friedman_mse\"],\n",
    "                \"splitter\" : [\"best\",\"random\"]\n",
    "            }\n",
    "        }\n",
    "    }\n",
    "    scores = []\n",
    "    cv = ShuffleSplit(n_splits=5, test_size=0.2, random_state=0)\n",
    "    for algo_name, config in algos.items():\n",
    "        gs = GridSearchCV(config[\"model\"], config[\"params\"], cv=cv, return_train_score=False)\n",
    "        gs.fit(x,y)\n",
    "        scores.append({\n",
    "            \"model\" : algo_name,\n",
    "            \"best_score\" : gs.best_score_,\n",
    "            \"best_params\" : gs.best_params_\n",
    "        })\n",
    "     \n",
    "    return pd.DataFrame(scores,columns=[\"model\",\"best_score\",\"best_params\"])\n",
    "\n",
    "find_best_model_using_gridsearchcv(x,y)\n",
    "        "
   ]
  },
  {
   "cell_type": "code",
   "execution_count": 295,
   "id": "e8d56f86",
   "metadata": {},
   "outputs": [
    {
     "data": {
      "text/plain": [
       "Index(['BHK', 'Parking', 'Per_Sqft', 'Price_Per_Sqft', 'Chittaranjan Park',\n",
       "       'J R Designers Floors, Rohini Sector 24',\n",
       "       'Kailash Colony, Greater Kailash', 'Lajpat Nagar 2', 'Laxmi Nagar',\n",
       "       'Mehrauli', 'Saket', 'Yamuna Vihar, Shahdara'],\n",
       "      dtype='object')"
      ]
     },
     "execution_count": 295,
     "metadata": {},
     "output_type": "execute_result"
    }
   ],
   "source": [
    "x.columns"
   ]
  },
  {
   "cell_type": "code",
   "execution_count": 296,
   "id": "14559301",
   "metadata": {},
   "outputs": [
    {
     "data": {
      "text/plain": [
       "4"
      ]
     },
     "execution_count": 296,
     "metadata": {},
     "output_type": "execute_result"
    }
   ],
   "source": [
    "np.where(x.columns==\"Chittaranjan Park\")[0][0]"
   ]
  }
 ],
 "metadata": {
  "kernelspec": {
   "display_name": "Python 3",
   "language": "python",
   "name": "python3"
  },
  "language_info": {
   "codemirror_mode": {
    "name": "ipython",
    "version": 3
   },
   "file_extension": ".py",
   "mimetype": "text/x-python",
   "name": "python",
   "nbconvert_exporter": "python",
   "pygments_lexer": "ipython3",
   "version": "3.8.8"
  }
 },
 "nbformat": 4,
 "nbformat_minor": 5
}
